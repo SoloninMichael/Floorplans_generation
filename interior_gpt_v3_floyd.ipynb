{
 "cells": [
  {
   "cell_type": "code",
   "execution_count": 28,
   "id": "239f9366",
   "metadata": {},
   "outputs": [],
   "source": [
    "import math\n",
    "import logging\n",
    "import torch.nn as nn\n",
    "from torch.nn import functional as F\n",
    "from tqdm import tqdm\n",
    "import numpy as np\n",
    "import torch\n",
    "import torch.optim as optim\n",
    "from torch.optim.lr_scheduler import LambdaLR\n",
    "from torch.utils.data.dataloader import DataLoader\n",
    "import random\n",
    "from torch.utils.data import Dataset\n",
    "import pandas as pd\n",
    "import os\n",
    "from torch.utils.tensorboard import SummaryWriter"
   ]
  },
  {
   "cell_type": "code",
   "execution_count": 29,
   "id": "75e746ff",
   "metadata": {},
   "outputs": [],
   "source": [
    "device = 'cpu'\n",
    "if torch.cuda.is_available():\n",
    "    device = torch.cuda.current_device()"
   ]
  },
  {
   "cell_type": "code",
   "execution_count": 30,
   "id": "ff9c0a43",
   "metadata": {},
   "outputs": [
    {
     "data": {
      "text/plain": [
       "0"
      ]
     },
     "execution_count": 30,
     "metadata": {},
     "output_type": "execute_result"
    }
   ],
   "source": [
    "device"
   ]
  },
  {
   "cell_type": "code",
   "execution_count": 32,
   "id": "9c5ca062",
   "metadata": {},
   "outputs": [],
   "source": [
    "def set_seed(seed):\n",
    "    random.seed(seed)\n",
    "    np.random.seed(seed)\n",
    "    torch.manual_seed(seed)\n",
    "    torch.cuda.manual_seed_all(seed)\n",
    "\n",
    "def top_k_logits(logits, k):\n",
    "    v, ix = torch.topk(logits, k)\n",
    "    out = logits.clone()\n",
    "    out[out < v[:, [-1]]] = -float('Inf')\n",
    "    return out\n",
    "\n",
    "@torch.no_grad()\n",
    "def sample(model, x, steps, temperature=1.0, sample=False, top_k=None):\n",
    "    \"\"\"\n",
    "    take a conditioning sequence of indices in x (of shape (b,t)) and predict the next token in\n",
    "    the sequence, feeding the predictions back into the model each time. Clearly the sampling\n",
    "    has quadratic complexity unlike an RNN that is only linear, and has a finite context window\n",
    "    of block_size, unlike an RNN that has an infinite context window.\n",
    "    \"\"\"\n",
    "    block_size = model.get_block_size()\n",
    "    model.eval()\n",
    "    for k in range(steps):\n",
    "        x_cond = x if x.size(1) <= block_size else x[:, -block_size:] # crop context if needed\n",
    "        logits, _ = model(x_cond)\n",
    "        # pluck the logits at the final step and scale by temperature\n",
    "        logits = logits[:, -1, :] / temperature\n",
    "        # optionally crop probabilities to only the top k options\n",
    "        if top_k is not None:\n",
    "            logits = top_k_logits(logits, top_k)\n",
    "        # apply softmax to convert to probabilities\n",
    "        probs = F.softmax(logits, dim=-1)\n",
    "        # sample from the distribution or take the most likely\n",
    "        if sample:\n",
    "            ix = torch.multinomial(probs, num_samples=1)\n",
    "        else:\n",
    "            _, ix = torch.topk(probs, k=1, dim=-1)\n",
    "        # append to the sequence and continue\n",
    "        x = torch.cat((x, ix), dim=1)\n",
    "\n",
    "    return x"
   ]
  },
  {
   "cell_type": "code",
   "execution_count": 33,
   "id": "d41d6014",
   "metadata": {},
   "outputs": [],
   "source": [
    "logger = logging.getLogger(__name__)"
   ]
  },
  {
   "cell_type": "code",
   "execution_count": 34,
   "id": "8800f1c1",
   "metadata": {},
   "outputs": [],
   "source": [
    "class GPTConfig:\n",
    "    \"\"\" base GPT config, params common to all GPT versions \"\"\"\n",
    "    embd_pdrop = 0.1\n",
    "    resid_pdrop = 0.1\n",
    "    attn_pdrop = 0.1\n",
    "\n",
    "    def __init__(self, vocab_size, block_size, **kwargs):\n",
    "        self.vocab_size = vocab_size\n",
    "        self.block_size = block_size\n",
    "        for k,v in kwargs.items():\n",
    "            setattr(self, k, v)\n",
    "\n",
    "class GPT1Config(GPTConfig):\n",
    "    \"\"\" GPT-1 like network roughly 125M params \"\"\"\n",
    "    n_layer = 12\n",
    "    n_head = 12\n",
    "    n_embd = 768\n",
    "\n",
    "class CausalSelfAttention(nn.Module):\n",
    "    \"\"\"\n",
    "    A vanilla multi-head masked self-attention layer with a projection at the end.\n",
    "    It is possible to use torch.nn.MultiheadAttention here but I am including an\n",
    "    explicit implementation here to show that there is nothing too scary here.\n",
    "    \"\"\"\n",
    "\n",
    "    def __init__(self, config):\n",
    "        super().__init__()\n",
    "        assert config.n_embd % config.n_head == 0\n",
    "        # key, query, value projections for all heads\n",
    "        self.key = nn.Linear(config.n_embd, config.n_embd)\n",
    "        self.query = nn.Linear(config.n_embd, config.n_embd)\n",
    "        self.value = nn.Linear(config.n_embd, config.n_embd)\n",
    "        # regularization\n",
    "        self.attn_drop = nn.Dropout(config.attn_pdrop)\n",
    "        self.resid_drop = nn.Dropout(config.resid_pdrop)\n",
    "        # output projection\n",
    "        self.proj = nn.Linear(config.n_embd, config.n_embd)\n",
    "        # causal mask to ensure that attention is only applied to the left in the input sequence\n",
    "        self.register_buffer(\"mask\", torch.tril(torch.ones(config.block_size, config.block_size))\n",
    "                                     .view(1, 1, config.block_size, config.block_size))\n",
    "        self.n_head = config.n_head\n",
    "        self.block_size = block_size\n",
    "\n",
    "    def forward(self, x, layer_past=None):\n",
    "        B, T, C = x.size()\n",
    "        \n",
    "        self.mask = torch.tril(torch.ones(self.block_size, self.block_size))\\\n",
    "                                     .view(1, 1, self.block_size, self.block_size).to(device)\n",
    "        if np.random.rand() < 0.1:\n",
    "            rand_int = np.random.randint(10,30)\n",
    "            \n",
    "            add = torch.tensor(np.random.choice([0,1], size = [rand_int,rand_int], \n",
    "                                                p = [0.8, 0.2]), \n",
    "                                                dtype = torch.float).to(device)\n",
    "            d_u = torch.diag(torch.ones(rand_int - 1).to(device), 1).to(device)\n",
    "            add -= d_u\n",
    "            \n",
    "            self.mask[0,0, :rand_int, :rand_int] += add\n",
    "            self.mask = torch.clamp(self.mask, min=0., max=1.)\n",
    "        \n",
    "        \n",
    "        # calculate query, key, values for all heads in batch and move head forward to be the batch dim\n",
    "        k = self.key(x).view(B, T, self.n_head, C // self.n_head).transpose(1, 2) # (B, nh, T, hs)\n",
    "        q = self.query(x).view(B, T, self.n_head, C // self.n_head).transpose(1, 2) # (B, nh, T, hs)\n",
    "        v = self.value(x).view(B, T, self.n_head, C // self.n_head).transpose(1, 2) # (B, nh, T, hs)\n",
    "\n",
    "        # causal self-attention; Self-attend: (B, nh, T, hs) x (B, nh, hs, T) -> (B, nh, T, T)\n",
    "        att = (q @ k.transpose(-2, -1)) * (1.0 / math.sqrt(k.size(-1)))\n",
    "        att = att.masked_fill(self.mask[:,:,:T,:T] == 0, float('-inf'))\n",
    "        att = F.softmax(att, dim=-1)\n",
    "        att = self.attn_drop(att)\n",
    "        y = att @ v # (B, nh, T, T) x (B, nh, T, hs) -> (B, nh, T, hs)\n",
    "        y = y.transpose(1, 2).contiguous().view(B, T, C) # re-assemble all head outputs side by side\n",
    "\n",
    "        # output projection\n",
    "        y = self.resid_drop(self.proj(y))\n",
    "        return y\n",
    "\n",
    "class Block(nn.Module):\n",
    "    \"\"\" an unassuming Transformer block \"\"\"\n",
    "\n",
    "    def __init__(self, config):\n",
    "        super().__init__()\n",
    "        self.ln1 = nn.LayerNorm(config.n_embd)\n",
    "        self.ln2 = nn.LayerNorm(config.n_embd)\n",
    "        self.attn = CausalSelfAttention(config)\n",
    "        self.mlp = nn.Sequential(\n",
    "            nn.Linear(config.n_embd, 4 * config.n_embd),\n",
    "            nn.GELU(),\n",
    "            nn.Linear(4 * config.n_embd, config.n_embd),\n",
    "            nn.Dropout(config.resid_pdrop),\n",
    "        )\n",
    "\n",
    "    def forward(self, x):\n",
    "        x = x + self.attn(self.ln1(x))\n",
    "        x = x + self.mlp(self.ln2(x))\n",
    "        return x"
   ]
  },
  {
   "cell_type": "code",
   "execution_count": 35,
   "id": "8eeb038d",
   "metadata": {},
   "outputs": [],
   "source": [
    "pred_coord_g = None\n",
    "y_coord_g = None\n",
    "logits_tok_g = None\n",
    "y_tok_g = None\n",
    "\n",
    "writer = SummaryWriter()"
   ]
  },
  {
   "cell_type": "code",
   "execution_count": 36,
   "id": "cfca16ab",
   "metadata": {},
   "outputs": [],
   "source": [
    "class GPT(nn.Module):\n",
    "    \"\"\"  the full GPT language model, with a context size of block_size \"\"\"\n",
    "\n",
    "    def __init__(self, config):\n",
    "        super().__init__()\n",
    "\n",
    "        # input embedding stem\n",
    "        self.tok_emb = nn.Embedding(config.vocab_size, int(config.n_embd // 4))\n",
    "        self.coord_emb = nn.Linear(4, int(config.n_embd // 4 * 3))\n",
    "        self.pos_emb = nn.Parameter(torch.zeros(1, config.block_size, config.n_embd))\n",
    "        self.drop = nn.Dropout(config.embd_pdrop)\n",
    "        # transformer\n",
    "        self.blocks = nn.Sequential(*[Block(config) for _ in range(config.n_layer)])\n",
    "        # decoder head\n",
    "        self.ln_f = nn.LayerNorm(config.n_embd)\n",
    "        self.head_tok = nn.Linear(config.n_embd, config.vocab_size, bias=False)\n",
    "        self.head_coord = nn.Linear(config.n_embd, 4)\n",
    "\n",
    "        self.block_size = config.block_size\n",
    "        self.apply(self._init_weights)\n",
    "        \n",
    "        self.n_iter = 0\n",
    "\n",
    "        logger.info(\"number of parameters: %e\", sum(p.numel() for p in self.parameters()))\n",
    "\n",
    "    def get_block_size(self):\n",
    "        return self.block_size\n",
    "\n",
    "    def _init_weights(self, module):\n",
    "        if isinstance(module, (nn.Linear, nn.Embedding)):\n",
    "            module.weight.data.normal_(mean=0.0, std=0.02)\n",
    "            if isinstance(module, nn.Linear) and module.bias is not None:\n",
    "                module.bias.data.zero_()\n",
    "        elif isinstance(module, nn.LayerNorm):\n",
    "            module.bias.data.zero_()\n",
    "            module.weight.data.fill_(1.0)\n",
    "\n",
    "    def configure_optimizers(self, train_config):\n",
    "        \"\"\"\n",
    "        This long function is unfortunately doing something very simple and is being very defensive:\n",
    "        We are separating out all parameters of the model into two buckets: those that will experience\n",
    "        weight decay for regularization and those that won't (biases, and layernorm/embedding weights).\n",
    "        We are then returning the PyTorch optimizer object.\n",
    "        \"\"\"\n",
    "\n",
    "        # separate out all parameters to those that will and won't experience regularizing weight decay\n",
    "        decay = set()\n",
    "        no_decay = set()\n",
    "        whitelist_weight_modules = (torch.nn.Linear, )\n",
    "        blacklist_weight_modules = (torch.nn.LayerNorm, torch.nn.Embedding)\n",
    "        for mn, m in self.named_modules():\n",
    "            for pn, p in m.named_parameters():\n",
    "                fpn = '%s.%s' % (mn, pn) if mn else pn # full param name\n",
    "\n",
    "                if pn.endswith('bias'):\n",
    "                    # all biases will not be decayed\n",
    "                    no_decay.add(fpn)\n",
    "                elif pn.endswith('weight') and isinstance(m, whitelist_weight_modules):\n",
    "                    # weights of whitelist modules will be weight decayed\n",
    "                    decay.add(fpn)\n",
    "                elif pn.endswith('weight') and isinstance(m, blacklist_weight_modules):\n",
    "                    # weights of blacklist modules will NOT be weight decayed\n",
    "                    no_decay.add(fpn)\n",
    "\n",
    "        # special case the position embedding parameter in the root GPT module as not decayed\n",
    "        no_decay.add('pos_emb')\n",
    "\n",
    "        # validate that we considered every parameter\n",
    "        param_dict = {pn: p for pn, p in self.named_parameters()}\n",
    "        inter_params = decay & no_decay\n",
    "        union_params = decay | no_decay\n",
    "        assert len(inter_params) == 0, \"parameters %s made it into both \\\n",
    "                                        decay/no_decay sets!\" % (str(inter_params), )\n",
    "        assert len(param_dict.keys() - union_params) == 0, \"parameters %s were \\\n",
    "                                                    not separated into either decay/no_decay set!\" \\\n",
    "                                                    % (str(param_dict.keys() - union_params), )\n",
    "\n",
    "        # create the pytorch optimizer object\n",
    "        optim_groups = [\n",
    "            {\"params\": [param_dict[pn] for pn in sorted(list(decay))], \"weight_decay\": \n",
    "             train_config.weight_decay},\n",
    "            {\"params\": [param_dict[pn] for pn in sorted(list(no_decay))], \"weight_decay\": 0.0},\n",
    "        ]\n",
    "        optimizer = torch.optim.AdamW(optim_groups, lr=train_config.learning_rate, betas=train_config.betas)\n",
    "        return optimizer\n",
    "\n",
    "    def forward(self, x, y=None):\n",
    "        \n",
    "        self.n_iter += 1\n",
    "        \n",
    "        X_tok, X_coord = x # [bs, seq_len, 1] , [bs, seq_len, 4]\n",
    "        X_coord[:,0] = torch.rand(X_coord.shape[0],4)\n",
    "        if y is not None:\n",
    "            y_tok, y_coord = y # [bs, seq_len, 1] , [bs, seq_len, 4]\n",
    "        \n",
    "        b, t, _ = X_tok.size()\n",
    "        assert t <= self.block_size, \"Cannot forward, model block size is exhausted.\"\n",
    "\n",
    "        # forward the GPT model\n",
    "        token_embeddings = self.tok_emb(X_tok[:,:,0]) # [bs, seq_len, emb // 2 ]\n",
    "        coord_embeddings = self.coord_emb(X_coord) # [bs, seq_len, emb // 2 ]\n",
    "        entity_embeddings = torch.cat([token_embeddings, coord_embeddings], dim = 2) # [bs, seq_len, emb]\n",
    "        position_embeddings = self.pos_emb[:, :t, :] # each position maps to a (learnable) vector\n",
    "        x = self.drop(entity_embeddings + position_embeddings)\n",
    "        x = self.blocks(x)\n",
    "        x = self.ln_f(x)\n",
    "        logits_tok = self.head_tok(x)\n",
    "        pred_coord = self.head_coord(x)\n",
    "\n",
    "        # if we are given some desired targets also calculate the loss\n",
    "        loss = None\n",
    "        if y is not None:\n",
    "            global pred_coord_g, y_coord_g, logits_tok_g, y_tok_g\n",
    "            \n",
    "            pred_coord_g, y_coord_g, logits_tok_g, y_tok_g = pred_coord, y_coord, logits_tok, y_tok\n",
    "            \n",
    "            loss_1 = F.cross_entropy(logits_tok.view(-1, logits_tok.size(-1)), y_tok.view(-1), \n",
    "                                     reduction=\"sum\")\n",
    "            loss_1 = loss_1 / b\n",
    "            loss_2 = F.mse_loss(pred_coord, y_coord, reduction=\"sum\")\n",
    "            loss_2 = loss_2 / b\n",
    "#             loss_3 = (((pred_coord_g[:,:,2] - pred_coord_g[:,:,0]) * \n",
    "#                        (pred_coord_g[:,:,3] - pred_coord_g[:,:,1]))).abs().sum() \n",
    "#             print(loss_1, loss_2, loss_3)\n",
    "            loss = loss_1 + loss_2 #+ loss_3\n",
    "            writer.add_scalar('Loss/cross_entropy', loss_1.item(), self.n_iter)\n",
    "            writer.add_scalar('Loss/l2_loss', loss_2.item(), self.n_iter)\n",
    "            #writer.add_scalar('Loss/parallel_loss', loss_3.item(), self.n_iter)\n",
    "            writer.add_scalar('Loss/general_loss', loss.item(), self.n_iter)\n",
    "\n",
    "        return (logits_tok, pred_coord) , loss"
   ]
  },
  {
   "cell_type": "code",
   "execution_count": 37,
   "id": "cbb8210f",
   "metadata": {},
   "outputs": [],
   "source": [
    "class TrainerConfig:\n",
    "    # optimization parameters\n",
    "    max_epochs = 10\n",
    "    batch_size = 7\n",
    "    learning_rate = 3e-4\n",
    "    betas = (0.9, 0.95)\n",
    "    grad_norm_clip = 1.0\n",
    "    weight_decay = 0.1 # only applied on matmul weights\n",
    "    # learning rate decay params: linear warmup followed by cosine decay to 10% of original\n",
    "    lr_decay = False\n",
    "    warmup_tokens = 375e6 # these two numbers come from the GPT-3 paper, but may not be good defaults elsewhere\n",
    "    final_tokens = 260e9 # (at what point we reach 10% of original LR)\n",
    "    # checkpoint settings\n",
    "    ckpt_path = None\n",
    "    num_workers = 0 # for DataLoader\n",
    "\n",
    "    def __init__(self, **kwargs):\n",
    "        for k,v in kwargs.items():\n",
    "            setattr(self, k, v)\n",
    "\n",
    "class Trainer:\n",
    "\n",
    "    def __init__(self, model, train_dataset, test_dataset, config):\n",
    "        self.model = model\n",
    "        self.train_dataset = train_dataset\n",
    "        self.test_dataset = test_dataset\n",
    "        self.config = config\n",
    "        self.n_iter = 0\n",
    "\n",
    "        # take over whatever gpus are on the system\n",
    "        self.device = 'cpu'\n",
    "        if torch.cuda.is_available():\n",
    "            self.device = torch.cuda.current_device()\n",
    "            self.model = torch.nn.DataParallel(self.model).to(self.device)\n",
    "\n",
    "    def save_checkpoint(self):\n",
    "        # DataParallel wrappers keep raw model object in .module attribute\n",
    "        raw_model = self.model.module if hasattr(self.model, \"module\") else self.model\n",
    "        logger.info(\"saving %s\", self.config.ckpt_path)\n",
    "        torch.save(raw_model.state_dict(), self.config.ckpt_path)\n",
    "\n",
    "    def train(self):\n",
    "        model, config = self.model, self.config\n",
    "        raw_model = model.module if hasattr(self.model, \"module\") else model\n",
    "        optimizer = raw_model.configure_optimizers(config)\n",
    "\n",
    "        def run_epoch(split):\n",
    "            is_train = split == 'train'\n",
    "            model.train(is_train)\n",
    "            data = self.train_dataset if is_train else self.test_dataset\n",
    "            loader = DataLoader(data, shuffle=True, pin_memory=True,\n",
    "                                batch_size=config.batch_size,\n",
    "                                num_workers=config.num_workers,\n",
    "                                drop_last = True, collate_fn=PadSequence())\n",
    "\n",
    "            losses = []\n",
    "            pbar = tqdm(enumerate(loader), total=len(loader)) if is_train else enumerate(loader)\n",
    "            for it, ((X_tok, X_coord), (y_tok, y_coord)) in pbar:\n",
    "                self.n_iter += 1\n",
    "                # place data on the correct device\n",
    "                X_tok = X_tok.to(self.device)\n",
    "                X_coord = X_coord.to(self.device)\n",
    "                y_tok = y_tok.to(self.device)\n",
    "                y_coord = y_coord.to(self.device)\n",
    "                \n",
    "\n",
    "                # forward the model\n",
    "                with torch.set_grad_enabled(is_train):\n",
    "                    logits, loss = model((X_tok, X_coord), (y_tok, y_coord))\n",
    "                    loss = loss.mean() # collapse all losses if they are scattered on multiple gpus\n",
    "                    losses.append(loss.item())\n",
    "\n",
    "                if is_train:\n",
    "\n",
    "                    # backprop and update the parameters\n",
    "                    model.zero_grad()\n",
    "                    loss.backward()\n",
    "                    torch.nn.utils.clip_grad_norm_(model.parameters(), config.grad_norm_clip)\n",
    "                    optimizer.step()\n",
    "\n",
    "                    # decay the learning rate based on our progress\n",
    "                    if config.lr_decay:\n",
    "                        self.tokens += (y_tok >= 0).sum() # number of tokens processed this step (i.e. label is not -100)\n",
    "#                         print(self.tokens)\n",
    "                        if self.tokens < config.warmup_tokens:\n",
    "                            # linear warmup\n",
    "                            lr_mult = float(self.tokens) / float(max(1, config.warmup_tokens))\n",
    "                        else:\n",
    "                            # cosine learning rate decay\n",
    "                            progress = float(self.tokens - config.warmup_tokens) / float(max(1, config.final_tokens - config.warmup_tokens))\n",
    "                            lr_mult = max(0.1, 0.5 * (1.0 + math.cos(math.pi * progress)))\n",
    "                        lr = config.learning_rate * lr_mult\n",
    "                        for param_group in optimizer.param_groups:\n",
    "                            param_group['lr'] = lr\n",
    "                    else:\n",
    "                        lr = config.learning_rate\n",
    "\n",
    "                    # report progress\n",
    "                    pbar.set_description(f\"epoch {epoch+1} iter {it}: train loss {loss.item():.5f}. lr {lr:e}\")\n",
    "                    \n",
    "                    writer.add_scalar('LR/lr', lr, self.n_iter)\n",
    "#                 break\n",
    "                    \n",
    "            if not is_train:\n",
    "                test_loss = float(np.mean(losses))\n",
    "                logger.info(\"test loss: %f\", test_loss)\n",
    "                return test_loss\n",
    "\n",
    "        best_loss = float('inf')\n",
    "        self.tokens = 0 # counter used for learning rate decay\n",
    "        for epoch in range(config.max_epochs):\n",
    "\n",
    "            run_epoch('train')\n",
    "            if self.test_dataset is not None:\n",
    "                test_loss = run_epoch('test')\n",
    "\n",
    "            # supports early stopping based on the test loss, or just save always if no test set is provided\n",
    "            good_model = self.test_dataset is None or test_loss < best_loss\n",
    "            if self.config.ckpt_path is not None and good_model:\n",
    "                best_loss = test_loss\n",
    "                self.save_checkpoint()"
   ]
  },
  {
   "cell_type": "code",
   "execution_count": 38,
   "id": "4d58d9d5",
   "metadata": {},
   "outputs": [],
   "source": [
    "logging.basicConfig(\n",
    "        format=\"%(asctime)s - %(levelname)s - %(name)s -   %(message)s\",\n",
    "        datefmt=\"%m/%d/%Y %H:%M:%S\",\n",
    "        level=logging.INFO,\n",
    ")\n",
    "set_seed(42)"
   ]
  },
  {
   "cell_type": "code",
   "execution_count": 39,
   "id": "7609195d",
   "metadata": {},
   "outputs": [],
   "source": [
    "class Dataset(torch.utils.data.Dataset):\n",
    "    def __init__(self, max_index):\n",
    "        self.words = pd.read_csv(\"data_interior_3_train/vocab.csv\", index_col=0)[\"0\"].values.tolist()\n",
    "        self.vocab = [\"<sos>\", \"<eos>\", \"<pad>\", \"<unk>\"] + self.words\n",
    "        self.vocab_size = len(self.vocab)\n",
    "        self.index_to_word = {index: word for index, word in enumerate(self.vocab)}\n",
    "        self.word_to_index = {word: index for index, word in enumerate(self.vocab)}\n",
    "        self.block_size = 127\n",
    "        self.max_index = max_index\n",
    "        \n",
    "    def __len__(self):\n",
    "        l = [int(x[len(\"entities_\"):][:-len(\".csv\")]) for x in \n",
    "                list(filter(None, \n",
    "                filter(lambda x: \".csv\" in x and x != 'vocab.csv', \n",
    "                       os.listdir(\"./data_interior_3_train\"))))]\n",
    "        return self.max_index\n",
    "    \n",
    "    def __getitem__(self, index):\n",
    "        \n",
    "        lst_tokens = pd.read_csv(\n",
    "                \"data_interior_3_train/entities_{}.csv\".format(index), \n",
    "                index_col=0).category.values.tolist()[:self.block_size-2]\n",
    "\n",
    "        coord_tensor = torch.tensor(\n",
    "            np.load(\"data_interior_3_train/coordinates_{}.npy\".format(index)), \n",
    "            dtype = torch.float).t()[:self.block_size-2,:]\n",
    "\n",
    "        sentence = [\"<sos>\"] + lst_tokens + [\"<eos>\"] #+ [\"<pad>\"] * (self.block_size - len(lst_tokens) - 2)\n",
    "        sentence_indices = [self.word_to_index[w] for w in sentence]\n",
    "\n",
    "        tokens_tenor = torch.tensor(sentence_indices)\n",
    "        \n",
    "        coord_padded = torch.cat([\n",
    "            torch.zeros([1,4]),\n",
    "            coord_tensor,\n",
    "            #torch.zeros([self.block_size - coord_tensor.shape[0] - 1, 4])\n",
    "            torch.zeros([1,4]),\n",
    "        ])\n",
    "        \n",
    "        return ((tokens_tenor.unsqueeze(0).t()[:-1], coord_padded[:-1]),\n",
    "                (tokens_tenor.unsqueeze(0).t()[1:], coord_padded[1:]))"
   ]
  },
  {
   "cell_type": "code",
   "execution_count": 40,
   "id": "e3b69269",
   "metadata": {},
   "outputs": [],
   "source": [
    "l = [int(x[len(\"entities_\"):][:-len(\".csv\")]) for x in \n",
    "        list(filter(None, \n",
    "        filter(lambda x: \".csv\" in x and x != 'vocab.csv', \n",
    "               os.listdir(\"./data_interior_3_train\"))))]\n",
    "max_index = max(l)\n",
    "train_dataset = Dataset(max_index)"
   ]
  },
  {
   "cell_type": "code",
   "execution_count": 41,
   "id": "096f57e6",
   "metadata": {},
   "outputs": [],
   "source": [
    "class PadSequence:\n",
    "    def __call__(self, batch):\n",
    "        len_batch = len(batch)\n",
    "        max_len = max([batch[i][0][0].shape[0] for i in range(len_batch)])\n",
    "#         max_len = max(max_len, 30)\n",
    "        X_tok_batch = torch.zeros([1, max_len, 1], dtype = torch.int)#.to(device) \n",
    "        X_coord_batch = torch.zeros([1, max_len, 4])#.to(device) \n",
    "        y_tok_batch = torch.zeros([1, max_len, 1], dtype = torch.int)#.to(device)\n",
    "        y_coord_batch = torch.zeros([1, max_len, 4])#.to(device) \n",
    "        for i in range(len_batch):\n",
    "            (X_tok, X_coord), (y_tok, y_coord) = batch[i]\n",
    "            X_tok = X_tok#.to(device)\n",
    "            X_coord = X_coord#.to(device)\n",
    "            y_tok = y_tok#.to(device)\n",
    "            y_coord = y_coord#.to(device)\n",
    "            cur_len = X_tok.shape[0]\n",
    "            X_tok = torch.cat([\n",
    "                            X_tok, \n",
    "                            torch.ones([max_len - cur_len, 1], dtype = torch.int) * \\\n",
    "                                train_dataset.word_to_index[\"<pad>\"]\n",
    "                            ], dim = 0)\n",
    "            X_coord = torch.cat([X_coord, torch.zeros([max_len - cur_len, 4])], dim = 0)\n",
    "            y_tok = torch.cat([\n",
    "                            y_tok, \n",
    "                            torch.ones([max_len - cur_len, 1], dtype = torch.int) * \\\n",
    "                                train_dataset.word_to_index[\"<pad>\"]\n",
    "                            ], dim = 0)\n",
    "            y_coord = torch.cat([y_coord, torch.zeros([max_len - cur_len, 4])], dim = 0)\n",
    "            batch[i] = (X_tok, X_coord), (y_tok, y_coord)\n",
    "\n",
    "            X_tok_batch = torch.cat([X_tok_batch, X_tok.unsqueeze(0)], dim = 0)\n",
    "            X_coord_batch = torch.cat([X_coord_batch, X_coord.unsqueeze(0)], dim = 0)\n",
    "            y_tok_batch = torch.cat([y_tok_batch, y_tok.unsqueeze(0)], dim = 0)\n",
    "            y_coord_batch = torch.cat([y_coord_batch, y_coord.unsqueeze(0)], dim = 0)\n",
    "            \n",
    "        X_tok_batch = X_tok_batch[1:,:,:]\n",
    "        X_coord_batch = X_coord_batch[1:,:,:]\n",
    "        y_tok_batch = y_tok_batch[1:,:,:]\n",
    "        y_coord_batch = y_coord_batch[1:,:,:]\n",
    "        \n",
    "        return (X_tok_batch, X_coord_batch), (y_tok_batch, y_coord_batch)"
   ]
  },
  {
   "cell_type": "code",
   "execution_count": 42,
   "id": "4de83305",
   "metadata": {},
   "outputs": [],
   "source": [
    "block_size = 127"
   ]
  },
  {
   "cell_type": "code",
   "execution_count": 44,
   "id": "eabc00ed",
   "metadata": {},
   "outputs": [
    {
     "name": "stderr",
     "output_type": "stream",
     "text": [
      "06/08/2021 01:06:28 - INFO - __main__ -   number of parameters: 5.397028e+06\n"
     ]
    }
   ],
   "source": [
    "mconf = GPTConfig(train_dataset.vocab_size, train_dataset.block_size,\n",
    "                  n_layer=3, n_head=4, n_embd=384)\n",
    "model = GPT(mconf)"
   ]
  },
  {
   "cell_type": "code",
   "execution_count": 45,
   "id": "95307375",
   "metadata": {},
   "outputs": [],
   "source": [
    "tconf = TrainerConfig(max_epochs=700, batch_size=700, learning_rate=5e-4,\n",
    "                      lr_decay=True, warmup_tokens=block_size*len(train_dataset)*32, \n",
    "                      final_tokens=2*len(train_dataset)*block_size,\n",
    "                      num_workers=0)\n",
    "trainer = Trainer(model, train_dataset, None, tconf)"
   ]
  },
  {
   "cell_type": "code",
   "execution_count": 46,
   "id": "fbac9644",
   "metadata": {},
   "outputs": [],
   "source": [
    "# # torch.save(model.state_dict(), \"./interior_gpt_model_v2.pt\")\n",
    "# model.load_state_dict(torch.load(\"./interior_gpt_model_v2_5_floyd_1st_full.pt\", \n",
    "#                                  map_location=torch.device('cpu')))"
   ]
  },
  {
   "cell_type": "code",
   "execution_count": null,
   "id": "1bacffd3",
   "metadata": {
    "scrolled": true
   },
   "outputs": [],
   "source": [
    "trainer.train()"
   ]
  },
  {
   "cell_type": "code",
   "execution_count": 48,
   "id": "3755adf6",
   "metadata": {},
   "outputs": [],
   "source": [
    "torch.save(model.state_dict(), \"./interior_gpt_model_v3_all_categories_v1.pt\")\n",
    "# model.load_state_dict(torch.load(\"./interior_gpt_model_v2.pt\"))"
   ]
  },
  {
   "cell_type": "code",
   "execution_count": null,
   "id": "6c8a922b",
   "metadata": {},
   "outputs": [],
   "source": []
  },
  {
   "cell_type": "code",
   "execution_count": null,
   "id": "f81bf7cf",
   "metadata": {},
   "outputs": [],
   "source": []
  },
  {
   "cell_type": "code",
   "execution_count": 49,
   "id": "ed4d8f36",
   "metadata": {},
   "outputs": [
    {
     "data": {
      "text/plain": [
       "79187"
      ]
     },
     "execution_count": 49,
     "metadata": {},
     "output_type": "execute_result"
    }
   ],
   "source": [
    "train_dataset.__len__()"
   ]
  },
  {
   "cell_type": "code",
   "execution_count": 212,
   "id": "87d68f9e",
   "metadata": {},
   "outputs": [],
   "source": [
    "(X_tok, X_coord), (y_tok, y_coord) = train_dataset.__getitem__(777)"
   ]
  },
  {
   "cell_type": "code",
   "execution_count": 213,
   "id": "e6b27898",
   "metadata": {},
   "outputs": [],
   "source": [
    "index_door = (X_tok == train_dataset.word_to_index[\"door\"]).nonzero(as_tuple=True)[0][0]\n",
    "X_acc_tok = X_tok[:index_door,:].unsqueeze(0).to(device)\n",
    "X_acc_coord = X_coord[:index_door,:].unsqueeze(0).to(device)"
   ]
  },
  {
   "cell_type": "code",
   "execution_count": 214,
   "id": "722b0ecf",
   "metadata": {},
   "outputs": [],
   "source": [
    "# X_acc_tok = torch.tensor([train_dataset.word_to_index[\"<sos>\"]], \n",
    "#                       dtype=torch.long).view(1,1,-1).transpose(1,2).to(trainer.device)\n",
    "# X_acc_coord = torch.rand([1,1,4]).to(trainer.device)\n",
    "\n",
    "model.eval()\n",
    "# model.train()\n",
    "pass"
   ]
  },
  {
   "cell_type": "code",
   "execution_count": 215,
   "id": "e5271147",
   "metadata": {},
   "outputs": [
    {
     "data": {
      "text/plain": [
       "(torch.Size([1, 31, 1]), torch.Size([1, 31, 4]))"
      ]
     },
     "execution_count": 215,
     "metadata": {},
     "output_type": "execute_result"
    }
   ],
   "source": [
    "X_acc_tok.shape, X_acc_coord.shape"
   ]
  },
  {
   "cell_type": "code",
   "execution_count": 216,
   "id": "7c59c3d2",
   "metadata": {},
   "outputs": [],
   "source": [
    "for i in range(index_door.item()-1, 125):\n",
    "    y_pred_tok_logits, y_pred_coord = model((X_acc_tok, X_acc_coord))[0]\n",
    "    X_acc_tok = torch.cat([X_acc_tok, y_pred_tok_logits[0][-1].argmax().view([1,1,1])], dim = 1)\n",
    "    X_acc_coord = torch.cat([X_acc_coord, y_pred_coord[0][-1].view(1,1,4)], dim = 1)"
   ]
  },
  {
   "cell_type": "code",
   "execution_count": 217,
   "id": "73b8a2ca",
   "metadata": {},
   "outputs": [],
   "source": [
    "def denorm(l):\n",
    "#     print(l)\n",
    "    x_min, y_min, x_max, y_max = l\n",
    "    x_mean, x_std, y_mean, y_std = np.load('data_interior_1/mean_std.npy')\n",
    "    \n",
    "    x_min_real = x_min * x_std + x_mean\n",
    "    x_max_real = x_max * x_std + x_mean\n",
    "    y_min_real = y_min * y_std + y_mean\n",
    "    y_max_real = y_max * y_std + y_mean\n",
    "    \n",
    "    return x_min_real, y_min_real, x_max_real, y_max_real"
   ]
  },
  {
   "cell_type": "code",
   "execution_count": 218,
   "id": "55f23e1e",
   "metadata": {},
   "outputs": [],
   "source": [
    "try:\n",
    "    eos_idx = X_acc_tok.view(101).tolist().index(train_dataset.word_to_index[\"<eos>\"])\n",
    "except:\n",
    "    eos_idx = 101"
   ]
  },
  {
   "cell_type": "code",
   "execution_count": 219,
   "id": "49e0adb4",
   "metadata": {},
   "outputs": [],
   "source": [
    "eos_idx = X_acc_tok.view(-1).tolist().index(train_dataset.word_to_index[\"<eos>\"])"
   ]
  },
  {
   "cell_type": "code",
   "execution_count": 220,
   "id": "3ab6c388",
   "metadata": {},
   "outputs": [
    {
     "data": {
      "text/plain": [
       "66"
      ]
     },
     "execution_count": 220,
     "metadata": {},
     "output_type": "execute_result"
    }
   ],
   "source": [
    "eos_idx"
   ]
  },
  {
   "cell_type": "code",
   "execution_count": 221,
   "id": "592e1cd9",
   "metadata": {},
   "outputs": [
    {
     "data": {
      "text/plain": [
       "torch.Size([1, 126, 4])"
      ]
     },
     "execution_count": 221,
     "metadata": {},
     "output_type": "execute_result"
    }
   ],
   "source": [
    "X_acc_coord.shape"
   ]
  },
  {
   "cell_type": "code",
   "execution_count": 222,
   "id": "b97c6557",
   "metadata": {},
   "outputs": [],
   "source": [
    "tokens_idx = X_acc_tok.view(-1).tolist()[1:eos_idx]\n",
    "tokens = [train_dataset.index_to_word[x] for x in tokens_idx]"
   ]
  },
  {
   "cell_type": "code",
   "execution_count": 223,
   "id": "c435449b",
   "metadata": {},
   "outputs": [],
   "source": [
    "array_coord = X_acc_coord.view(X_acc_coord.shape[1],4)[1:eos_idx,:].detach().cpu().numpy()\n",
    "coords = [denorm(x) for x in array_coord]"
   ]
  },
  {
   "cell_type": "code",
   "execution_count": 224,
   "id": "86ab69ad",
   "metadata": {},
   "outputs": [],
   "source": [
    "df = pd.DataFrame(columns=[\"x_min\", \"y_min\", \"x_max\", \"y_max\", \"category\"])\n",
    "df.category = tokens\n",
    "df[[\"x_min\", \"y_min\", \"x_max\", \"y_max\"]] = coords"
   ]
  },
  {
   "cell_type": "code",
   "execution_count": 225,
   "id": "3363f0c4",
   "metadata": {},
   "outputs": [],
   "source": [
    "import matplotlib.pyplot as plt\n",
    "from matplotlib.patches import Rectangle"
   ]
  },
  {
   "cell_type": "code",
   "execution_count": 226,
   "id": "43da9d58",
   "metadata": {},
   "outputs": [],
   "source": [
    "colors_dict = {\n",
    " 'door' : \"blue\",\n",
    " 'washing_basin' : \"orange\",\n",
    " 'cooking_counter' : \"brown\",\n",
    " 'special' : \"gold\",\n",
    " 'bathtub' : \"tab:red\",\n",
    " 'entrance' : \"tab:orange\",\n",
    " 'toilet' : \"lime\",\n",
    " 'bedroom' : \"darkviolet\",\n",
    " 'corridor' : \"rosybrown\",\n",
    " 'restroom' : \"tan\",\n",
    " 'closet' : \"springgreen\",\n",
    " 'kitchen' : \"olive\",\n",
    " 'washing_room' : \"teal\",\n",
    " 'bathroom' : \"hotpink\",\n",
    " 'living_room' : \"pink\",\n",
    " 'balcony' : \"peru\",\n",
    " 'wall' : \"red\",\n",
    " 'PS' : \"green\",\n",
    " 'stairs' : \"violet\",\n",
    " 'point' : \"cyan\"\n",
    "}"
   ]
  },
  {
   "cell_type": "code",
   "execution_count": 227,
   "id": "9b40b47a",
   "metadata": {},
   "outputs": [
    {
     "data": {
      "image/png": "[encoded data removed]",
      "text/plain": [
       "<Figure size 432x288 with 1 Axes>"
      ]
     },
     "metadata": {
      "needs_background": "light"
     },
     "output_type": "display_data"
    }
   ],
   "source": [
    "import matplotlib.pyplot as plt\n",
    "from matplotlib.patches import Rectangle\n",
    "\n",
    "# d = normalized_train_df[normalized_train_df.id == 13]\n",
    "\n",
    "fig, ax = plt.subplots()\n",
    "\n",
    "#create simple line plot\n",
    "c = 0\n",
    "ax.plot([c, c],[c, c])\n",
    "\n",
    "for idx, (x_min, y_min, x_max, y_max, category) in df.iterrows():\n",
    "    \n",
    "    w = x_max - x_min\n",
    "    w = 2 if w == 0 else w\n",
    "    h = y_max - y_min\n",
    "    h = 2 if h == 0 else h\n",
    "\n",
    "    if category == \"point\":\n",
    "        w = 12\n",
    "        h = 12\n",
    "        ax.add_patch(Rectangle((x_min, y_min), w, h, color = colors_dict[category], alpha = 0.2))\n",
    "    elif category == \"door\":\n",
    "        ax.add_patch(Rectangle((x_min, y_min), w, h, color = colors_dict[category], alpha = 0.8))\n",
    "    else:\n",
    "        try:\n",
    "            ax.add_patch(Rectangle((x_min, y_min), w, h, color = colors_dict[category], alpha = 0.3))\n",
    "        except:\n",
    "            pass\n",
    "\n",
    "#     break\n",
    "#display plot\n",
    "plt.show()"
   ]
  },
  {
   "cell_type": "code",
   "execution_count": null,
   "id": "6b1c4dc1",
   "metadata": {},
   "outputs": [],
   "source": []
  },
  {
   "cell_type": "code",
   "execution_count": 120,
   "id": "d00046dd",
   "metadata": {},
   "outputs": [
    {
     "data": {
      "image/png": "[encoded data removed]",
      "text/plain": [
       "<Figure size 432x288 with 1 Axes>"
      ]
     },
     "metadata": {
      "needs_background": "light"
     },
     "output_type": "display_data"
    }
   ],
   "source": [
    "fig, ax = plt.subplots()\n",
    "\n",
    "#create simple line plot\n",
    "c = 0\n",
    "ax.plot([c, c],[c, c])\n",
    "\n",
    "for idx, (x_min, y_min, x_max, y_max, category) in df.iterrows():\n",
    "#     print(x_max, y_max)\n",
    "    x_min = int(x_min)\n",
    "    y_min = int(y_min)\n",
    "    x_max = int(x_max)\n",
    "    y_max = int(y_max)\n",
    "#     if category not in [\"wall\"]: continue\n",
    "    \n",
    "    w = x_max - x_min\n",
    "    w = 2 if w == 0 else w\n",
    "    h = y_max - y_min\n",
    "    h = 2 if h == 0 else h\n",
    "    if category == \"wall\":\n",
    "        ax.add_patch(Rectangle((x_min, y_min), w, h, color = \"red\", alpha = 0.1))\n",
    "    elif category == \"door\":\n",
    "        ax.add_patch(Rectangle((x_min, y_min), w, h, color = \"blue\", alpha = 0.1))\n",
    "\n",
    "#     break\n",
    "#display plot\n",
    "plt.show()"
   ]
  },
  {
   "cell_type": "code",
   "execution_count": 179,
   "id": "30af322f",
   "metadata": {},
   "outputs": [
    {
     "data": {
      "image/png": "[encoded data removed]",
      "text/plain": [
       "<Figure size 432x288 with 1 Axes>"
      ]
     },
     "metadata": {
      "needs_background": "light"
     },
     "output_type": "display_data"
    }
   ],
   "source": [
    "# eos_idx = X_tok.view(-1).tolist().index(train_dataset.word_to_index[\"<eos>\"])\n",
    "tokens_idx = X_tok.view(-1).tolist()[1:eos_idx]\n",
    "tokens = [train_dataset.index_to_word[x] for x in tokens_idx]\n",
    "\n",
    "array_coord = X_coord.view(X_coord.shape[0],4)[1:,:].detach().numpy()\n",
    "coords = [denorm(x) for x in array_coord]\n",
    "\n",
    "df = pd.DataFrame(columns=[\"x_min\", \"y_min\", \"x_max\", \"y_max\", \"category\"])\n",
    "df.category = tokens\n",
    "df[[\"x_min\", \"y_min\", \"x_max\", \"y_max\"]] = coords[:len(tokens)]\n",
    "\n",
    "fig, ax = plt.subplots()\n",
    "\n",
    "#create simple line plot\n",
    "c = 0\n",
    "ax.plot([c, c],[c, c])\n",
    "\n",
    "for idx, (x_min, y_min, x_max, y_max, category) in df.iterrows():\n",
    "#     print(x_max, y_max)\n",
    "    x_min = int(x_min)\n",
    "    y_min = int(y_min)\n",
    "    x_max = int(x_max)\n",
    "    y_max = int(y_max)\n",
    "#     if category not in [\"wall\"]: continue\n",
    "    \n",
    "    w = x_max - x_min\n",
    "    w = 2 if w == 0 else w\n",
    "    h = y_max - y_min\n",
    "    h = 2 if h == 0 else h\n",
    "    if category == \"wall\":\n",
    "        ax.add_patch(Rectangle((x_min, y_min), w, h, color = \"red\", alpha = 0.1))\n",
    "    elif category == \"door\":\n",
    "        ax.add_patch(Rectangle((x_min, y_min), w, h, color = \"blue\", alpha = 0.3))\n",
    "\n",
    "#     break\n",
    "#display plot\n",
    "plt.show()"
   ]
  },
  {
   "cell_type": "code",
   "execution_count": null,
   "id": "6f7e0642",
   "metadata": {},
   "outputs": [],
   "source": []
  },
  {
   "cell_type": "code",
   "execution_count": null,
   "id": "6374410c",
   "metadata": {},
   "outputs": [],
   "source": []
  },
  {
   "cell_type": "code",
   "execution_count": null,
   "id": "64ddd7da",
   "metadata": {},
   "outputs": [],
   "source": []
  },
  {
   "cell_type": "code",
   "execution_count": null,
   "id": "72384e18",
   "metadata": {},
   "outputs": [],
   "source": []
  },
  {
   "cell_type": "code",
   "execution_count": null,
   "id": "288a5461",
   "metadata": {},
   "outputs": [],
   "source": []
  },
  {
   "cell_type": "code",
   "execution_count": 137,
   "id": "d02acb3b",
   "metadata": {},
   "outputs": [
    {
     "data": {
      "text/plain": [
       "1277"
      ]
     },
     "execution_count": 137,
     "metadata": {},
     "output_type": "execute_result"
    }
   ],
   "source": [
    "len(train_dataset)"
   ]
  },
  {
   "cell_type": "code",
   "execution_count": 203,
   "id": "33364ff4",
   "metadata": {},
   "outputs": [
    {
     "data": {
      "text/plain": [
       "12500.0"
      ]
     },
     "execution_count": 203,
     "metadata": {},
     "output_type": "execute_result"
    }
   ],
   "source": [
    "100_000 / 8"
   ]
  },
  {
   "cell_type": "code",
   "execution_count": 206,
   "id": "6cf27c5b",
   "metadata": {},
   "outputs": [],
   "source": [
    "warmup_tokens = [512 * 2000] #200*len(train_dataset)*8, \n",
    "final_tokens = [60*len(train_dataset)*block_size] #2*len(train_dataset)*block_size,\n",
    "learning_rate = 6e-5\n",
    "lst = []\n",
    "tokens = 0\n",
    "\n",
    "warmup_tokens = warmup_tokens[0]\n",
    "final_tokens = final_tokens[0]\n",
    "# print(final_tokens)\n",
    "for i in range(0, 100_000):\n",
    "#     print(1, end= \"\")\n",
    "    if True:\n",
    "        tokens += 100#(y_tok >= 0).sum() # number of tokens processed this step (i.e. label is not -100)\n",
    "    #                         print(self.tokens)\n",
    "#         print(warmup_tokens)\n",
    "        if tokens < warmup_tokens:\n",
    "            # linear warmup\n",
    "            lr_mult = float(tokens) / float(max(1, warmup_tokens))\n",
    "        else:\n",
    "            # cosine learning rate decay\n",
    "            progress = float(tokens - warmup_tokens) / float(max(1, final_tokens - warmup_tokens))\n",
    "            lr_mult = max(0.1, 0.5 * (1.0 + math.cos(math.pi * progress)))\n",
    "        lr = learning_rate * lr_mult\n",
    "    else:\n",
    "        lr = learning_rate\n",
    "    lst.append(lr)"
   ]
  },
  {
   "cell_type": "code",
   "execution_count": 207,
   "id": "c51c1b30",
   "metadata": {},
   "outputs": [
    {
     "data": {
      "text/plain": [
       "<AxesSubplot:>"
      ]
     },
     "execution_count": 207,
     "metadata": {},
     "output_type": "execute_result"
    },
    {
     "data": {
      "image/png": "[encoded data removed]",
      "text/plain": [
       "<Figure size 432x288 with 1 Axes>"
      ]
     },
     "metadata": {
      "needs_background": "light"
     },
     "output_type": "display_data"
    }
   ],
   "source": [
    "pd.DataFrame(lst).plot()"
   ]
  },
  {
   "cell_type": "code",
   "execution_count": null,
   "id": "6096951e",
   "metadata": {},
   "outputs": [],
   "source": []
  },
  {
   "cell_type": "code",
   "execution_count": 135,
   "id": "c971aa85",
   "metadata": {},
   "outputs": [
    {
     "data": {
      "text/plain": [
       "1021600"
      ]
     },
     "execution_count": 135,
     "metadata": {},
     "output_type": "execute_result"
    }
   ],
   "source": [
    "block_size*len(train_dataset)*8"
   ]
  },
  {
   "cell_type": "code",
   "execution_count": 136,
   "id": "e90708a0",
   "metadata": {},
   "outputs": [
    {
     "data": {
      "text/plain": [
       "(1021600,)"
      ]
     },
     "execution_count": 136,
     "metadata": {},
     "output_type": "execute_result"
    }
   ],
   "source": [
    "warmup_tokens"
   ]
  },
  {
   "cell_type": "code",
   "execution_count": null,
   "id": "1ceda8f6",
   "metadata": {},
   "outputs": [],
   "source": []
  },
  {
   "cell_type": "code",
   "execution_count": null,
   "id": "a02c779f",
   "metadata": {},
   "outputs": [],
   "source": []
  },
  {
   "cell_type": "code",
   "execution_count": null,
   "id": "eb14463a",
   "metadata": {},
   "outputs": [],
   "source": []
  },
  {
   "cell_type": "code",
   "execution_count": null,
   "id": "ad502d3e",
   "metadata": {},
   "outputs": [],
   "source": []
  },
  {
   "cell_type": "code",
   "execution_count": 239,
   "id": "a76c7dda",
   "metadata": {},
   "outputs": [],
   "source": [
    "y_pred_tok_logits, y_pred_coord = model((X_acc_tok, X_acc_coord))[0]"
   ]
  },
  {
   "cell_type": "code",
   "execution_count": 241,
   "id": "8a6a3454",
   "metadata": {},
   "outputs": [
    {
     "data": {
      "text/plain": [
       "tensor([[[5]]])"
      ]
     },
     "execution_count": 241,
     "metadata": {},
     "output_type": "execute_result"
    }
   ],
   "source": [
    "y_pred_tok_logits[0][-1].argmax().view([1,1,1])"
   ]
  },
  {
   "cell_type": "code",
   "execution_count": 244,
   "id": "28aab4e9",
   "metadata": {},
   "outputs": [],
   "source": [
    "X_acc_tok = torch.cat([X_acc_tok, y_pred_tok_logits[0][-1].argmax().view([1,1,1])], dim = 1)"
   ]
  },
  {
   "cell_type": "code",
   "execution_count": 245,
   "id": "33cdc73c",
   "metadata": {},
   "outputs": [
    {
     "data": {
      "text/plain": [
       "tensor([[[0],\n",
       "         [5]]])"
      ]
     },
     "execution_count": 245,
     "metadata": {},
     "output_type": "execute_result"
    }
   ],
   "source": [
    "X_acc_tok"
   ]
  },
  {
   "cell_type": "code",
   "execution_count": 246,
   "id": "be25e32a",
   "metadata": {},
   "outputs": [],
   "source": [
    "X_acc_coord = torch.cat([X_acc_coord, y_pred_coord[0][-1].view(1,1,4)], dim = 1)"
   ]
  },
  {
   "cell_type": "code",
   "execution_count": 247,
   "id": "81dcc358",
   "metadata": {},
   "outputs": [
    {
     "data": {
      "text/plain": [
       "tensor([[[0.8743, 0.5398, 0.7056, 0.2340],\n",
       "         [0.1647, 0.2532, 0.1402, 0.2543]]], grad_fn=<CatBackward>)"
      ]
     },
     "execution_count": 247,
     "metadata": {},
     "output_type": "execute_result"
    }
   ],
   "source": [
    "X_acc_coord"
   ]
  },
  {
   "cell_type": "code",
   "execution_count": null,
   "id": "37fe1325",
   "metadata": {},
   "outputs": [],
   "source": []
  },
  {
   "cell_type": "code",
   "execution_count": null,
   "id": "fa23cd07",
   "metadata": {},
   "outputs": [],
   "source": []
  },
  {
   "cell_type": "code",
   "execution_count": 87,
   "id": "ddb481b4",
   "metadata": {
    "collapsed": true,
    "jupyter": {
     "outputs_hidden": true
    }
   },
   "outputs": [
    {
     "data": {
      "text/plain": [
       "(tensor([[[-2.3111e-01, -3.0194e-01, -2.4044e-01,  1.0043e-02],\n",
       "          [-2.1674e-01, -3.5572e-01,  5.0945e-02, -9.0140e-02],\n",
       "          [-1.7926e-01, -2.8573e-01, -7.2330e-02, -1.2373e-01],\n",
       "          ...,\n",
       "          [-8.4137e-02, -1.1956e-02,  3.0616e-01,  1.7163e-01],\n",
       "          [-1.4407e-01, -5.7687e-04,  2.2275e-01,  1.8957e-01],\n",
       "          [-7.8394e-02,  6.2236e-02,  2.6401e-01,  1.5516e-01]],\n",
       " \n",
       "         [[-5.0310e-02, -3.7494e-01, -5.7372e-02,  2.3746e-03],\n",
       "          [-1.6248e-01, -4.8149e-01,  3.8270e-02, -4.9086e-02],\n",
       "          [ 8.7308e-02, -3.2867e-01, -8.9528e-02, -2.4724e-02],\n",
       "          ...,\n",
       "          [-7.2178e-02, -5.3699e-02,  2.3211e-01,  2.2761e-01],\n",
       "          [-1.3351e-01,  1.2589e-01,  1.5876e-01,  1.5753e-01],\n",
       "          [-1.8494e-01,  5.6812e-04,  1.1613e-01,  2.3742e-01]],\n",
       " \n",
       "         [[-2.2756e-01, -4.6461e-01, -1.7225e-01, -1.4562e-02],\n",
       "          [-1.9756e-01, -3.5476e-01, -2.1051e-01, -7.5366e-03],\n",
       "          [-3.3056e-01, -3.8877e-01, -2.7589e-01, -3.0225e-02],\n",
       "          ...,\n",
       "          [-5.9917e-02,  6.9147e-02,  2.4043e-01,  3.1700e-01],\n",
       "          [-1.0148e-01,  1.6695e-01,  2.4115e-01,  2.5943e-01],\n",
       "          [-1.0458e-01,  6.7173e-02,  2.3317e-01,  2.8557e-01]],\n",
       " \n",
       "         [[-3.0381e-01, -2.0918e-01, -1.7043e-01, -1.3221e-01],\n",
       "          [-4.3521e-01, -3.6143e-01, -4.3491e-01,  1.2675e-01],\n",
       "          [-4.9905e-01, -5.1275e-01, -6.1348e-01,  1.1718e-01],\n",
       "          ...,\n",
       "          [ 2.0353e-02, -5.1180e-03,  1.8734e-01,  1.3689e-01],\n",
       "          [-1.6845e-01,  8.4443e-02,  2.8982e-01,  1.7129e-01],\n",
       "          [-1.7731e-01,  1.2169e-01,  2.7144e-01,  2.0064e-01]],\n",
       " \n",
       "         [[-2.5184e-01, -3.3562e-01, -2.4857e-01, -8.0232e-02],\n",
       "          [-2.2132e-01, -4.8770e-01, -3.5063e-01, -6.7960e-02],\n",
       "          [-3.6377e-01, -5.2665e-01, -5.4770e-01,  1.3849e-01],\n",
       "          ...,\n",
       "          [-5.1917e-02,  1.0168e-01,  2.2201e-01,  3.4991e-01],\n",
       "          [-4.8868e-02,  2.1399e-01,  2.4618e-01,  2.9452e-01],\n",
       "          [-1.4085e-01,  1.1472e-01,  1.3905e-01,  2.7601e-01]]],\n",
       "        grad_fn=<AddBackward0>),\n",
       " tensor([[[ 0.2994, -0.7488,  0.6580, -0.7488],\n",
       "          [-0.2527, -0.7488,  0.2425, -0.7488],\n",
       "          [-0.7649,  1.8341,  0.3222,  1.8341],\n",
       "          ...,\n",
       "          [ 0.0000,  0.0000,  0.0000,  0.0000],\n",
       "          [ 0.0000,  0.0000,  0.0000,  0.0000],\n",
       "          [ 0.0000,  0.0000,  0.0000,  0.0000]],\n",
       " \n",
       "         [[ 1.0906, -0.6509,  1.2614, -0.6509],\n",
       "          [ 0.7719, -0.6241,  0.7719, -0.4816],\n",
       "          [-1.0837, -0.6776, -1.0837, -0.4816],\n",
       "          ...,\n",
       "          [ 0.0000,  0.0000,  0.0000,  0.0000],\n",
       "          [ 0.0000,  0.0000,  0.0000,  0.0000],\n",
       "          [ 0.0000,  0.0000,  0.0000,  0.0000]],\n",
       " \n",
       "         [[-0.5031, -0.5707, -0.3665, -0.5707],\n",
       "          [ 0.2482, -0.5484,  0.2482, -0.4460],\n",
       "          [-0.5316, -0.2590, -0.5316, -0.1565],\n",
       "          ...,\n",
       "          [ 0.0000,  0.0000,  0.0000,  0.0000],\n",
       "          [ 0.0000,  0.0000,  0.0000,  0.0000],\n",
       "          [ 0.0000,  0.0000,  0.0000,  0.0000]],\n",
       " \n",
       "         [[-1.0609, -0.3258, -1.0609, -0.0986],\n",
       "          [-0.9812, -0.0363, -0.4690, -0.0363],\n",
       "          [ 0.0319, -0.6687,  0.0319, -0.0630],\n",
       "          ...,\n",
       "          [ 0.0000,  0.0000,  0.0000,  0.0000],\n",
       "          [ 0.0000,  0.0000,  0.0000,  0.0000],\n",
       "          [ 0.0000,  0.0000,  0.0000,  0.0000]],\n",
       " \n",
       "         [[-0.5657, -1.0383, -0.5657, -0.9581],\n",
       "          [-0.8788, -0.9181, -0.7934, -0.9181],\n",
       "          [-1.0894, -0.8824, -1.0040, -0.8824],\n",
       "          ...,\n",
       "          [ 0.0000,  0.0000,  0.0000,  0.0000],\n",
       "          [ 0.0000,  0.0000,  0.0000,  0.0000],\n",
       "          [ 0.0000,  0.0000,  0.0000,  0.0000]]]),\n",
       " tensor([[[ 1.0172e+00,  1.4533e-01, -2.1915e+00,  2.2501e-01,  3.1203e+00,\n",
       "           -9.0475e-01],\n",
       "          [ 3.7624e-01, -1.7623e-01, -2.7982e+00, -7.4232e-02,  3.4649e+00,\n",
       "            1.2513e-01],\n",
       "          [ 2.4781e-01, -1.9603e-01, -2.7824e+00, -1.5544e-01,  3.2968e+00,\n",
       "            1.1056e+00],\n",
       "          ...,\n",
       "          [-1.1819e+00, -1.1235e+00,  3.6847e+00, -1.0875e+00, -1.3671e+00,\n",
       "           -1.1039e+00],\n",
       "          [-1.1676e+00, -9.7823e-01,  3.8853e+00, -9.3002e-01, -1.3180e+00,\n",
       "           -1.0563e+00],\n",
       "          [-1.1299e+00, -1.0001e+00,  3.8922e+00, -9.3241e-01, -1.3041e+00,\n",
       "           -1.2247e+00]],\n",
       " \n",
       "         [[ 8.0578e-01,  3.9772e-01, -2.5264e+00,  1.7630e-01,  3.2626e+00,\n",
       "           -8.5511e-01],\n",
       "          [ 3.4180e-01,  6.3084e-02, -2.6133e+00,  2.1797e-02,  3.5900e+00,\n",
       "            2.7397e-01],\n",
       "          [ 8.9253e-02, -1.8326e-02, -2.9284e+00, -2.8398e-02,  3.2292e+00,\n",
       "            8.8703e-01],\n",
       "          ...,\n",
       "          [-1.2193e+00, -1.0135e+00,  3.8103e+00, -1.2648e+00, -1.1995e+00,\n",
       "           -1.0759e+00],\n",
       "          [-1.3607e+00, -9.0311e-01,  3.9137e+00, -9.8710e-01, -1.2874e+00,\n",
       "           -1.0338e+00],\n",
       "          [-1.2209e+00, -9.5807e-01,  3.8608e+00, -1.0044e+00, -1.4660e+00,\n",
       "           -1.1935e+00]],\n",
       " \n",
       "         [[ 8.9843e-01,  3.9138e-02, -2.0976e+00,  1.8665e-01,  3.2434e+00,\n",
       "           -1.0670e+00],\n",
       "          [ 5.2686e-01, -2.8067e-03, -2.6069e+00,  7.3689e-02,  3.5487e+00,\n",
       "           -2.8108e-01],\n",
       "          [ 7.2444e-02, -1.9634e-01, -2.9147e+00, -2.4285e-01,  3.2124e+00,\n",
       "            8.8841e-01],\n",
       "          ...,\n",
       "          [-1.3805e+00, -8.8886e-01,  3.8064e+00, -1.2116e+00, -1.4379e+00,\n",
       "           -9.1690e-01],\n",
       "          [-1.3443e+00, -9.2978e-01,  3.8459e+00, -1.1792e+00, -1.4442e+00,\n",
       "           -8.1700e-01],\n",
       "          [-1.3201e+00, -1.0838e+00,  3.9429e+00, -1.1224e+00, -1.4569e+00,\n",
       "           -8.3986e-01]],\n",
       " \n",
       "         [[ 1.3192e+00,  3.0060e-01, -2.1710e+00,  2.4371e-01,  3.1190e+00,\n",
       "           -1.1699e+00],\n",
       "          [ 5.3171e-01, -2.0845e-01, -2.8042e+00,  4.0130e-02,  3.4255e+00,\n",
       "            3.5829e-02],\n",
       "          [-2.5710e-01, -3.3253e-01, -2.7103e+00, -2.9690e-01,  3.1034e+00,\n",
       "            9.0993e-01],\n",
       "          ...,\n",
       "          [-1.2506e+00, -9.9958e-01,  3.8892e+00, -1.0472e+00, -1.4654e+00,\n",
       "           -1.0798e+00],\n",
       "          [-1.1633e+00, -1.0367e+00,  3.7879e+00, -1.0456e+00, -1.1591e+00,\n",
       "           -1.3164e+00],\n",
       "          [-1.2802e+00, -9.1372e-01,  3.8550e+00, -9.4734e-01, -1.1690e+00,\n",
       "           -1.0863e+00]],\n",
       " \n",
       "         [[ 1.1264e+00,  1.5501e-01, -2.3412e+00,  2.8180e-01,  3.0388e+00,\n",
       "           -8.6255e-01],\n",
       "          [ 3.3094e-01, -1.2782e-01, -3.1002e+00, -1.2408e-01,  3.0582e+00,\n",
       "            9.1096e-01],\n",
       "          [ 3.0994e-01, -4.7197e-02, -2.8479e+00, -2.2114e-01,  3.3955e+00,\n",
       "            5.4328e-01],\n",
       "          ...,\n",
       "          [-1.3501e+00, -1.0037e+00,  3.8483e+00, -1.0235e+00, -1.4456e+00,\n",
       "           -1.0750e+00],\n",
       "          [-1.3064e+00, -9.1844e-01,  3.8715e+00, -1.0499e+00, -1.3288e+00,\n",
       "           -1.0767e+00],\n",
       "          [-1.3882e+00, -9.7277e-01,  3.7712e+00, -1.1725e+00, -1.5552e+00,\n",
       "           -9.5376e-01]]], grad_fn=<UnsafeViewBackward>),\n",
       " tensor([[[4],\n",
       "          [4],\n",
       "          [4],\n",
       "          [5],\n",
       "          [5],\n",
       "          [5],\n",
       "          [5],\n",
       "          [5],\n",
       "          [5],\n",
       "          [5],\n",
       "          [5],\n",
       "          [5],\n",
       "          [1],\n",
       "          [2],\n",
       "          [2],\n",
       "          [2],\n",
       "          [2],\n",
       "          [2],\n",
       "          [2],\n",
       "          [2],\n",
       "          [2],\n",
       "          [2],\n",
       "          [2],\n",
       "          [2],\n",
       "          [2],\n",
       "          [2],\n",
       "          [2],\n",
       "          [2],\n",
       "          [2],\n",
       "          [2],\n",
       "          [2],\n",
       "          [2],\n",
       "          [2],\n",
       "          [2],\n",
       "          [2],\n",
       "          [2],\n",
       "          [2],\n",
       "          [2],\n",
       "          [2],\n",
       "          [2],\n",
       "          [2],\n",
       "          [2],\n",
       "          [2],\n",
       "          [2],\n",
       "          [2],\n",
       "          [2],\n",
       "          [2],\n",
       "          [2],\n",
       "          [2],\n",
       "          [2],\n",
       "          [2],\n",
       "          [2],\n",
       "          [2],\n",
       "          [2],\n",
       "          [2],\n",
       "          [2],\n",
       "          [2],\n",
       "          [2],\n",
       "          [2],\n",
       "          [2],\n",
       "          [2],\n",
       "          [2],\n",
       "          [2],\n",
       "          [2],\n",
       "          [2],\n",
       "          [2],\n",
       "          [2],\n",
       "          [2],\n",
       "          [2],\n",
       "          [2],\n",
       "          [2],\n",
       "          [2],\n",
       "          [2],\n",
       "          [2],\n",
       "          [2],\n",
       "          [2],\n",
       "          [2],\n",
       "          [2],\n",
       "          [2],\n",
       "          [2],\n",
       "          [2],\n",
       "          [2],\n",
       "          [2],\n",
       "          [2],\n",
       "          [2],\n",
       "          [2],\n",
       "          [2],\n",
       "          [2],\n",
       "          [2],\n",
       "          [2],\n",
       "          [2],\n",
       "          [2],\n",
       "          [2],\n",
       "          [2],\n",
       "          [2],\n",
       "          [2],\n",
       "          [2],\n",
       "          [2],\n",
       "          [2]],\n",
       " \n",
       "         [[4],\n",
       "          [4],\n",
       "          [4],\n",
       "          [4],\n",
       "          [4],\n",
       "          [4],\n",
       "          [4],\n",
       "          [4],\n",
       "          [4],\n",
       "          [5],\n",
       "          [5],\n",
       "          [5],\n",
       "          [5],\n",
       "          [5],\n",
       "          [5],\n",
       "          [5],\n",
       "          [5],\n",
       "          [5],\n",
       "          [5],\n",
       "          [5],\n",
       "          [5],\n",
       "          [5],\n",
       "          [5],\n",
       "          [5],\n",
       "          [5],\n",
       "          [5],\n",
       "          [1],\n",
       "          [2],\n",
       "          [2],\n",
       "          [2],\n",
       "          [2],\n",
       "          [2],\n",
       "          [2],\n",
       "          [2],\n",
       "          [2],\n",
       "          [2],\n",
       "          [2],\n",
       "          [2],\n",
       "          [2],\n",
       "          [2],\n",
       "          [2],\n",
       "          [2],\n",
       "          [2],\n",
       "          [2],\n",
       "          [2],\n",
       "          [2],\n",
       "          [2],\n",
       "          [2],\n",
       "          [2],\n",
       "          [2],\n",
       "          [2],\n",
       "          [2],\n",
       "          [2],\n",
       "          [2],\n",
       "          [2],\n",
       "          [2],\n",
       "          [2],\n",
       "          [2],\n",
       "          [2],\n",
       "          [2],\n",
       "          [2],\n",
       "          [2],\n",
       "          [2],\n",
       "          [2],\n",
       "          [2],\n",
       "          [2],\n",
       "          [2],\n",
       "          [2],\n",
       "          [2],\n",
       "          [2],\n",
       "          [2],\n",
       "          [2],\n",
       "          [2],\n",
       "          [2],\n",
       "          [2],\n",
       "          [2],\n",
       "          [2],\n",
       "          [2],\n",
       "          [2],\n",
       "          [2],\n",
       "          [2],\n",
       "          [2],\n",
       "          [2],\n",
       "          [2],\n",
       "          [2],\n",
       "          [2],\n",
       "          [2],\n",
       "          [2],\n",
       "          [2],\n",
       "          [2],\n",
       "          [2],\n",
       "          [2],\n",
       "          [2],\n",
       "          [2],\n",
       "          [2],\n",
       "          [2],\n",
       "          [2],\n",
       "          [2],\n",
       "          [2]],\n",
       " \n",
       "         [[4],\n",
       "          [4],\n",
       "          [4],\n",
       "          [4],\n",
       "          [4],\n",
       "          [4],\n",
       "          [4],\n",
       "          [4],\n",
       "          [4],\n",
       "          [4],\n",
       "          [4],\n",
       "          [4],\n",
       "          [4],\n",
       "          [4],\n",
       "          [4],\n",
       "          [4],\n",
       "          [5],\n",
       "          [5],\n",
       "          [5],\n",
       "          [5],\n",
       "          [5],\n",
       "          [5],\n",
       "          [5],\n",
       "          [5],\n",
       "          [5],\n",
       "          [5],\n",
       "          [5],\n",
       "          [5],\n",
       "          [5],\n",
       "          [5],\n",
       "          [5],\n",
       "          [5],\n",
       "          [5],\n",
       "          [5],\n",
       "          [5],\n",
       "          [5],\n",
       "          [5],\n",
       "          [5],\n",
       "          [5],\n",
       "          [5],\n",
       "          [5],\n",
       "          [5],\n",
       "          [5],\n",
       "          [5],\n",
       "          [5],\n",
       "          [5],\n",
       "          [5],\n",
       "          [5],\n",
       "          [1],\n",
       "          [2],\n",
       "          [2],\n",
       "          [2],\n",
       "          [2],\n",
       "          [2],\n",
       "          [2],\n",
       "          [2],\n",
       "          [2],\n",
       "          [2],\n",
       "          [2],\n",
       "          [2],\n",
       "          [2],\n",
       "          [2],\n",
       "          [2],\n",
       "          [2],\n",
       "          [2],\n",
       "          [2],\n",
       "          [2],\n",
       "          [2],\n",
       "          [2],\n",
       "          [2],\n",
       "          [2],\n",
       "          [2],\n",
       "          [2],\n",
       "          [2],\n",
       "          [2],\n",
       "          [2],\n",
       "          [2],\n",
       "          [2],\n",
       "          [2],\n",
       "          [2],\n",
       "          [2],\n",
       "          [2],\n",
       "          [2],\n",
       "          [2],\n",
       "          [2],\n",
       "          [2],\n",
       "          [2],\n",
       "          [2],\n",
       "          [2],\n",
       "          [2],\n",
       "          [2],\n",
       "          [2],\n",
       "          [2],\n",
       "          [2],\n",
       "          [2],\n",
       "          [2],\n",
       "          [2],\n",
       "          [2],\n",
       "          [2]],\n",
       " \n",
       "         [[4],\n",
       "          [4],\n",
       "          [4],\n",
       "          [4],\n",
       "          [4],\n",
       "          [4],\n",
       "          [4],\n",
       "          [5],\n",
       "          [5],\n",
       "          [5],\n",
       "          [5],\n",
       "          [5],\n",
       "          [5],\n",
       "          [5],\n",
       "          [5],\n",
       "          [5],\n",
       "          [5],\n",
       "          [5],\n",
       "          [5],\n",
       "          [5],\n",
       "          [5],\n",
       "          [1],\n",
       "          [2],\n",
       "          [2],\n",
       "          [2],\n",
       "          [2],\n",
       "          [2],\n",
       "          [2],\n",
       "          [2],\n",
       "          [2],\n",
       "          [2],\n",
       "          [2],\n",
       "          [2],\n",
       "          [2],\n",
       "          [2],\n",
       "          [2],\n",
       "          [2],\n",
       "          [2],\n",
       "          [2],\n",
       "          [2],\n",
       "          [2],\n",
       "          [2],\n",
       "          [2],\n",
       "          [2],\n",
       "          [2],\n",
       "          [2],\n",
       "          [2],\n",
       "          [2],\n",
       "          [2],\n",
       "          [2],\n",
       "          [2],\n",
       "          [2],\n",
       "          [2],\n",
       "          [2],\n",
       "          [2],\n",
       "          [2],\n",
       "          [2],\n",
       "          [2],\n",
       "          [2],\n",
       "          [2],\n",
       "          [2],\n",
       "          [2],\n",
       "          [2],\n",
       "          [2],\n",
       "          [2],\n",
       "          [2],\n",
       "          [2],\n",
       "          [2],\n",
       "          [2],\n",
       "          [2],\n",
       "          [2],\n",
       "          [2],\n",
       "          [2],\n",
       "          [2],\n",
       "          [2],\n",
       "          [2],\n",
       "          [2],\n",
       "          [2],\n",
       "          [2],\n",
       "          [2],\n",
       "          [2],\n",
       "          [2],\n",
       "          [2],\n",
       "          [2],\n",
       "          [2],\n",
       "          [2],\n",
       "          [2],\n",
       "          [2],\n",
       "          [2],\n",
       "          [2],\n",
       "          [2],\n",
       "          [2],\n",
       "          [2],\n",
       "          [2],\n",
       "          [2],\n",
       "          [2],\n",
       "          [2],\n",
       "          [2],\n",
       "          [2]],\n",
       " \n",
       "         [[4],\n",
       "          [4],\n",
       "          [4],\n",
       "          [4],\n",
       "          [4],\n",
       "          [4],\n",
       "          [4],\n",
       "          [4],\n",
       "          [4],\n",
       "          [4],\n",
       "          [4],\n",
       "          [4],\n",
       "          [4],\n",
       "          [5],\n",
       "          [5],\n",
       "          [5],\n",
       "          [5],\n",
       "          [5],\n",
       "          [5],\n",
       "          [5],\n",
       "          [5],\n",
       "          [5],\n",
       "          [5],\n",
       "          [5],\n",
       "          [5],\n",
       "          [5],\n",
       "          [5],\n",
       "          [5],\n",
       "          [5],\n",
       "          [5],\n",
       "          [5],\n",
       "          [5],\n",
       "          [5],\n",
       "          [5],\n",
       "          [1],\n",
       "          [2],\n",
       "          [2],\n",
       "          [2],\n",
       "          [2],\n",
       "          [2],\n",
       "          [2],\n",
       "          [2],\n",
       "          [2],\n",
       "          [2],\n",
       "          [2],\n",
       "          [2],\n",
       "          [2],\n",
       "          [2],\n",
       "          [2],\n",
       "          [2],\n",
       "          [2],\n",
       "          [2],\n",
       "          [2],\n",
       "          [2],\n",
       "          [2],\n",
       "          [2],\n",
       "          [2],\n",
       "          [2],\n",
       "          [2],\n",
       "          [2],\n",
       "          [2],\n",
       "          [2],\n",
       "          [2],\n",
       "          [2],\n",
       "          [2],\n",
       "          [2],\n",
       "          [2],\n",
       "          [2],\n",
       "          [2],\n",
       "          [2],\n",
       "          [2],\n",
       "          [2],\n",
       "          [2],\n",
       "          [2],\n",
       "          [2],\n",
       "          [2],\n",
       "          [2],\n",
       "          [2],\n",
       "          [2],\n",
       "          [2],\n",
       "          [2],\n",
       "          [2],\n",
       "          [2],\n",
       "          [2],\n",
       "          [2],\n",
       "          [2],\n",
       "          [2],\n",
       "          [2],\n",
       "          [2],\n",
       "          [2],\n",
       "          [2],\n",
       "          [2],\n",
       "          [2],\n",
       "          [2],\n",
       "          [2],\n",
       "          [2],\n",
       "          [2],\n",
       "          [2],\n",
       "          [2]]]))"
      ]
     },
     "execution_count": 87,
     "metadata": {},
     "output_type": "execute_result"
    }
   ],
   "source": [
    "pred_coord_g, y_coord_g, logits_tok_g, y_tok_g"
   ]
  },
  {
   "cell_type": "code",
   "execution_count": 88,
   "id": "86600a16",
   "metadata": {},
   "outputs": [],
   "source": [
    "loss_1 = F.cross_entropy(logits_tok_g.view(-1, logits_tok_g.size(-1)), y_tok_g.view(-1),)\n",
    "loss_2 = F.l1_loss(pred_coord_g, y_coord_g)"
   ]
  },
  {
   "cell_type": "code",
   "execution_count": 89,
   "id": "642780ba",
   "metadata": {},
   "outputs": [
    {
     "data": {
      "text/plain": [
       "tensor(0.1704, grad_fn=<NllLossBackward>)"
      ]
     },
     "execution_count": 89,
     "metadata": {},
     "output_type": "execute_result"
    }
   ],
   "source": [
    "loss_1"
   ]
  },
  {
   "cell_type": "code",
   "execution_count": 90,
   "id": "e90d2d68",
   "metadata": {},
   "outputs": [
    {
     "data": {
      "text/plain": [
       "tensor(0.3015, grad_fn=<L1LossBackward>)"
      ]
     },
     "execution_count": 90,
     "metadata": {},
     "output_type": "execute_result"
    }
   ],
   "source": [
    "loss_2"
   ]
  },
  {
   "cell_type": "code",
   "execution_count": 92,
   "id": "7f2cb2f0",
   "metadata": {},
   "outputs": [
    {
     "data": {
      "text/plain": [
       "torch.Size([5, 99, 4])"
      ]
     },
     "execution_count": 92,
     "metadata": {},
     "output_type": "execute_result"
    }
   ],
   "source": [
    "pred_coord_g.shape"
   ]
  },
  {
   "cell_type": "code",
   "execution_count": 93,
   "id": "a1ed84fb",
   "metadata": {},
   "outputs": [],
   "source": [
    "x_min, y_min, x_max, y_max = pred_coord_g[0][0]"
   ]
  },
  {
   "cell_type": "code",
   "execution_count": 95,
   "id": "2f75cde7",
   "metadata": {},
   "outputs": [
    {
     "data": {
      "text/plain": [
       "tensor(-0.0029, grad_fn=<MulBackward0>)"
      ]
     },
     "execution_count": 95,
     "metadata": {},
     "output_type": "execute_result"
    }
   ],
   "source": [
    "(x_max - x_min) * (y_max - y_min)"
   ]
  },
  {
   "cell_type": "code",
   "execution_count": 111,
   "id": "5184d10c",
   "metadata": {},
   "outputs": [
    {
     "data": {
      "text/plain": [
       "tensor(0.0809, grad_fn=<MeanBackward0>)"
      ]
     },
     "execution_count": 111,
     "metadata": {},
     "output_type": "execute_result"
    }
   ],
   "source": [
    "(((pred_coord_g[:,:,2] - pred_coord_g[:,:,0]) * (pred_coord_g[:,:,3] - pred_coord_g[:,:,1]))).abs().mean()"
   ]
  },
  {
   "cell_type": "code",
   "execution_count": null,
   "id": "97bf4bcf",
   "metadata": {},
   "outputs": [],
   "source": []
  },
  {
   "cell_type": "code",
   "execution_count": null,
   "id": "5c6af603",
   "metadata": {},
   "outputs": [],
   "source": []
  },
  {
   "cell_type": "code",
   "execution_count": null,
   "id": "d7e43931",
   "metadata": {},
   "outputs": [],
   "source": []
  },
  {
   "cell_type": "code",
   "execution_count": 73,
   "id": "881fddd7",
   "metadata": {},
   "outputs": [],
   "source": [
    "dl = DataLoader(train_dataset, batch_size = 5)"
   ]
  },
  {
   "cell_type": "code",
   "execution_count": 74,
   "id": "49237f40",
   "metadata": {},
   "outputs": [
    {
     "data": {
      "text/plain": [
       "[tensor([[18, 47, 56, 57, 58,  1, 15, 47, 58, 47, 64, 43, 52, 10,  0, 14, 43, 44,\n",
       "          53, 56, 43,  1, 61, 43,  1, 54, 56, 53, 41, 43, 43, 42,  1, 39, 52, 63,\n",
       "           1, 44, 59, 56, 58, 46, 43, 56,  6,  1, 46, 43, 39, 56,  1, 51, 43,  1,\n",
       "          57, 54, 43, 39, 49,  8,  0,  0, 13, 50, 50, 10,  0, 31, 54, 43, 39, 49,\n",
       "           6,  1, 57, 54, 43, 39, 49,  8,  0,  0, 18, 47, 56, 57, 58,  1, 15, 47,\n",
       "          58, 47, 64, 43, 52, 10,  0, 37, 53, 59,  1, 39, 56, 43,  1, 39, 50, 50,\n",
       "           1, 56, 43, 57, 53, 50, 60, 43, 42,  1, 56, 39, 58, 46, 43, 56,  1, 58,\n",
       "          53,  1]]),\n",
       " tensor([[47, 56, 57, 58,  1, 15, 47, 58, 47, 64, 43, 52, 10,  0, 14, 43, 44, 53,\n",
       "          56, 43,  1, 61, 43,  1, 54, 56, 53, 41, 43, 43, 42,  1, 39, 52, 63,  1,\n",
       "          44, 59, 56, 58, 46, 43, 56,  6,  1, 46, 43, 39, 56,  1, 51, 43,  1, 57,\n",
       "          54, 43, 39, 49,  8,  0,  0, 13, 50, 50, 10,  0, 31, 54, 43, 39, 49,  6,\n",
       "           1, 57, 54, 43, 39, 49,  8,  0,  0, 18, 47, 56, 57, 58,  1, 15, 47, 58,\n",
       "          47, 64, 43, 52, 10,  0, 37, 53, 59,  1, 39, 56, 43,  1, 39, 50, 50,  1,\n",
       "          56, 43, 57, 53, 50, 60, 43, 42,  1, 56, 39, 58, 46, 43, 56,  1, 58, 53,\n",
       "           1, 42]])]"
      ]
     },
     "execution_count": 74,
     "metadata": {},
     "output_type": "execute_result"
    }
   ],
   "source": [
    "for batch in dl:\n",
    "    break\n",
    "batch"
   ]
  },
  {
   "cell_type": "code",
   "execution_count": 66,
   "id": "c82c504b",
   "metadata": {},
   "outputs": [
    {
     "data": {
      "text/plain": [
       "torch.Size([1, 128])"
      ]
     },
     "execution_count": 66,
     "metadata": {},
     "output_type": "execute_result"
    }
   ],
   "source": [
    "batch[0].shape # 1, seq_len"
   ]
  },
  {
   "cell_type": "code",
   "execution_count": 10,
   "id": "dfbbd45a",
   "metadata": {},
   "outputs": [],
   "source": [
    "class Dataset(torch.utils.data.Dataset):\n",
    "    def __init__(self):\n",
    "        self.words = pd.read_csv(\"data_interior_1/vocab.csv\", index_col=0)[\"0\"].values.tolist()\n",
    "        self.vocab = [\"<sos>\", \"<eos>\", \"<pad>\", \"<unk>\"] + self.words\n",
    "        self.index_to_word = {index: word for index, word in enumerate(self.vocab)}\n",
    "        self.word_to_index = {word: index for index, word in enumerate(self.vocab)}\n",
    "        \n",
    "        \n",
    "    def __len__(self):\n",
    "        l = [int(x[len(\"entities_\"):][:-len(\".csv\")]) for x in \n",
    "                list(filter(None, \n",
    "                filter(lambda x: \".csv\" in x and x != 'vocab.csv', \n",
    "                       os.listdir(\"./data_interior_1\"))))]\n",
    "        return max(l)\n",
    "    \n",
    "    def __getitem__(self, index):\n",
    "        \n",
    "        lst_tokens = pd.read_csv(\n",
    "                \"data_interior_1/entities_{}.csv\".format(index), \n",
    "                index_col=0).category.values.tolist()\n",
    "\n",
    "        coord_tensor = torch.tensor(\n",
    "            np.load(\"data_interior_1/coordinates_{}.npy\".format(index)), \n",
    "            dtype = torch.float).t()\n",
    "\n",
    "        sentence = [\"<sos>\"] + lst_tokens + [\"<eos>\"] + [\"<pad>\"] * (100 - len(lst_tokens) - 2)\n",
    "        sentence_indices = [self.word_to_index[w] for w in sentence]\n",
    "\n",
    "        tokens_tenor = torch.tensor(sentence_indices)\n",
    "        \n",
    "        coord_padded = torch.cat([\n",
    "            torch.zeros([1,4]),\n",
    "            coord_tensor,\n",
    "            torch.zeros([100 - coord_tensor.shape[0] - 1, 4])\n",
    "        ])\n",
    "        \n",
    "#         final_tensor = torch.cat([tokens_tenor.unsqueeze(0), coord_padded.t()], dim = 0).t()\n",
    "        \n",
    "        return ((tokens_tenor.unsqueeze(0).t()[:-1], coord_padded[:-1]),\n",
    "                (tokens_tenor.unsqueeze(0).t()[1:], coord_padded[1:]))"
   ]
  },
  {
   "cell_type": "code",
   "execution_count": 12,
   "id": "964ba384",
   "metadata": {},
   "outputs": [],
   "source": [
    "dataset = Dataset()\n",
    "dataloader = DataLoader(\n",
    "    dataset,\n",
    "    batch_size=3,\n",
    ")"
   ]
  },
  {
   "cell_type": "code",
   "execution_count": 67,
   "id": "e4f99a72",
   "metadata": {},
   "outputs": [],
   "source": [
    "for batch in dataloader:\n",
    "    break\n",
    "x, y = batch"
   ]
  },
  {
   "cell_type": "code",
   "execution_count": 69,
   "id": "0e7431df",
   "metadata": {},
   "outputs": [
    {
     "data": {
      "text/plain": [
       "torch.Size([5, 99, 1])"
      ]
     },
     "execution_count": 69,
     "metadata": {},
     "output_type": "execute_result"
    }
   ],
   "source": [
    "x[0].shape"
   ]
  },
  {
   "cell_type": "code",
   "execution_count": null,
   "id": "5584f331",
   "metadata": {},
   "outputs": [],
   "source": []
  }
 ],
 "metadata": {
  "kernelspec": {
   "display_name": "Python 3",
   "language": "python",
   "name": "python3"
  },
  "language_info": {
   "codemirror_mode": {
    "name": "ipython",
    "version": 3
   },
   "file_extension": ".py",
   "mimetype": "text/x-python",
   "name": "python",
   "nbconvert_exporter": "python",
   "pygments_lexer": "ipython3",
   "version": "3.8.5"
  }
 },
 "nbformat": 4,
 "nbformat_minor": 5
}
