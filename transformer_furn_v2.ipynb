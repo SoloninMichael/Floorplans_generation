{
 "cells": [
  {
   "cell_type": "code",
   "execution_count": 1,
   "id": "fa316f81",
   "metadata": {},
   "outputs": [],
   "source": [
    "import math\n",
    "import numpy as np\n",
    "from IPython.display import clear_output\n",
    "# from tqdm.notebook import trange, tqdm\n",
    "from tqdm import tqdm\n",
    "\n",
    "import matplotlib as mpl\n",
    "import matplotlib.pyplot as plt\n",
    "%matplotlib inline\n",
    "import seaborn as sns\n",
    "sns.color_palette(\"bright\")\n",
    "import matplotlib as mpl\n",
    "import matplotlib.cm as cm\n",
    "import re\n",
    "\n",
    "import torch\n",
    "from torch import Tensor\n",
    "from torch import nn\n",
    "from torch.nn  import functional as F \n",
    "from torch.autograd import Variable\n",
    "from torch.utils.data.sampler import SubsetRandomSampler\n",
    "import os\n",
    "import pandas as pd\n",
    "from torch.utils.data.dataloader import DataLoader\n",
    "from torch.utils.tensorboard import SummaryWriter\n",
    "from pathlib import Path\n",
    "from einops import rearrange"
   ]
  },
  {
   "cell_type": "code",
   "execution_count": 2,
   "id": "dbe75190",
   "metadata": {},
   "outputs": [],
   "source": [
    "NUM_EPOCHS = 100\n",
    "HIDDEN_SIZE = 384\n",
    "EMBEDDING_DIM = 100\n",
    "COORDINATES_DIM = 120\n",
    "BATCH_SIZE = 8\n",
    "NUM_HEADS = 4\n",
    "NUM_LAYERS = 2\n",
    "LEARNING_RATE = 0.002\n",
    "DEVICE = torch.device('cuda') if torch.cuda.is_available() else torch.device(\"cpu\") \n",
    "DROPOUT = 0.1\n",
    "CLIP = 1.0\n",
    "WARMUP_EPOCHS = 10\n",
    "TRAIN_DIR = Path(\"../../data_interior_4_train/\")\n",
    "TEST_DIR = Path(\"../../data_interior_4_test/\")"
   ]
  },
  {
   "cell_type": "code",
   "execution_count": 3,
   "id": "4e3597ea",
   "metadata": {},
   "outputs": [],
   "source": [
    "writer = SummaryWriter()"
   ]
  },
  {
   "cell_type": "code",
   "execution_count": 4,
   "id": "29981cd3",
   "metadata": {},
   "outputs": [],
   "source": [
    "class Dataset(torch.utils.data.Dataset):\n",
    "    def __init__(self, max_index):\n",
    "        self.words = pd.read_csv(TRAIN_DIR/\"vocab.csv\", index_col=0)[\"0\"].values.tolist()\n",
    "        self.vocab = [\"<sos>\", \"<eos>\", \"<pad>\", \"<unk>\"] + self.words\n",
    "        self.vocab_size = len(self.vocab)\n",
    "        self.index_to_word = {index: word for index, word in enumerate(self.vocab)}\n",
    "        self.word_to_index = {word: index for index, word in enumerate(self.vocab)}\n",
    "        self.block_size = 127\n",
    "        self.max_index = max_index\n",
    "        \n",
    "    def __len__(self):\n",
    "        return self.max_index\n",
    "    \n",
    "    def __getitem__(self, index):\n",
    "        \n",
    "        try:\n",
    "            lst_tokens_src = np.loadtxt(\n",
    "                             TRAIN_DIR/'entities_src_{}.txt'.format(index), dtype=str\n",
    "                         )[:self.block_size-2].tolist()\n",
    "            lst_tokens_trg = np.loadtxt(\n",
    "                             TRAIN_DIR/'entities_trg_{}.txt'.format(index), dtype=str\n",
    "                         )[:self.block_size-2].tolist()\n",
    "\n",
    "            coord_tensor_src = torch.tensor(\n",
    "                np.load(TRAIN_DIR/\"coordinates_src_{}.npy\".format(index)), \n",
    "                dtype = torch.float).t()[:self.block_size-2,:].to(DEVICE)\n",
    "            coord_tensor_trg = torch.tensor(\n",
    "                np.load(TRAIN_DIR/\"coordinates_trg_{}.npy\".format(index)), \n",
    "                dtype = torch.float).t()[:self.block_size-2,:].to(DEVICE)\n",
    "        except:\n",
    "            print(index, end = \", \")\n",
    "            return ((torch.rand(2,2),torch.rand(2,2)), (torch.rand(2,2),torch.rand(2,2)))\n",
    "        \n",
    "\n",
    "        sentence_src = [\"<sos>\"] + lst_tokens_src + [\"<eos>\"]\n",
    "        sentence_trg = [\"<sos>\"] + lst_tokens_trg + [\"<eos>\"]\n",
    "        \n",
    "        sentence_indices_src = [self.word_to_index[w] for w in sentence_src]\n",
    "        sentence_indices_trg = [self.word_to_index[w] for w in sentence_trg]\n",
    "\n",
    "        tokens_tenor_src = torch.tensor(sentence_indices_src).to(DEVICE)\n",
    "        tokens_tenor_trg = torch.tensor(sentence_indices_trg).to(DEVICE)\n",
    "        \n",
    "        coord_padded_src = torch.cat([\n",
    "            torch.zeros([1,4]).to(DEVICE),\n",
    "            coord_tensor_src,\n",
    "            torch.zeros([1,4]).to(DEVICE),\n",
    "        ])\n",
    "        \n",
    "        coord_padded_trg = torch.cat([\n",
    "            torch.zeros([1,4]).to(DEVICE),\n",
    "            coord_tensor_trg,\n",
    "            torch.zeros([1,4]).to(DEVICE),\n",
    "        ])\n",
    "        \n",
    "        return ((tokens_tenor_src.unsqueeze(0).t(), coord_padded_src),\n",
    "                (tokens_tenor_trg.unsqueeze(0).t(), coord_padded_trg))"
   ]
  },
  {
   "cell_type": "code",
   "execution_count": 5,
   "id": "8c6c2f05",
   "metadata": {},
   "outputs": [],
   "source": [
    "l = [int(x[len(\"entities_src_\"):][:-len(\".txt\")]) for x in \n",
    "        list(filter(None, \n",
    "        filter(lambda x: \".txt\" in x and x != 'vocab.csv', \n",
    "               os.listdir(TRAIN_DIR))))]\n",
    "max_index = max(l)\n",
    "train_dataset = Dataset(max_index)"
   ]
  },
  {
   "cell_type": "code",
   "execution_count": 6,
   "id": "b4e7b813",
   "metadata": {},
   "outputs": [],
   "source": [
    "l = [int(x[len(\"entities_src_\"):][:-len(\".txt\")]) for x in \n",
    "        list(filter(None, \n",
    "        filter(lambda x: \".txt\" in x and x != 'vocab.csv', \n",
    "               os.listdir(TEST_DIR))))]\n",
    "max_index = max(l)\n",
    "test_dataset = Dataset(max_index)"
   ]
  },
  {
   "cell_type": "code",
   "execution_count": 7,
   "id": "0ebf30cc",
   "metadata": {},
   "outputs": [],
   "source": [
    "VOCAB_SIZE = train_dataset.vocab_size"
   ]
  },
  {
   "cell_type": "code",
   "execution_count": 8,
   "id": "5f6e65ce",
   "metadata": {},
   "outputs": [],
   "source": [
    "class PadSequence:\n",
    "    def __call__(self, batch):\n",
    "        len_batch = len(batch)\n",
    "        max_len_X = max([batch[i][0][0].shape[0] for i in range(len_batch)])\n",
    "        max_len_y = max([batch[i][1][0].shape[0] for i in range(len_batch)])\n",
    "#         max_len = max(max_len, 30)\n",
    "        X_tok_batch = torch.zeros([1, max_len_X, 1], dtype = torch.int) \n",
    "        X_coord_batch = torch.zeros([1, max_len_X, 4]) \n",
    "        y_tok_batch = torch.zeros([1, max_len_y, 1], dtype = torch.int) \n",
    "        y_coord_batch = torch.zeros([1, max_len_y, 4]) \n",
    "        for i in range(len_batch):\n",
    "            (X_tok, X_coord), (y_tok, y_coord) = batch[i]\n",
    "\n",
    "            cur_len_X = X_tok.shape[0]\n",
    "            cur_len_y = y_tok.shape[0]\n",
    "            X_tok = torch.cat([\n",
    "                            X_tok, \n",
    "                            torch.ones([max_len_X - cur_len_X, 1], dtype = torch.int).to(DEVICE) * \\\n",
    "                                train_dataset.word_to_index[\"<pad>\"]\n",
    "                            ], dim = 0)\n",
    "            X_coord = torch.cat([X_coord, torch.zeros([max_len_X - cur_len_X, 4]).to(DEVICE)], dim = 0)\n",
    "            y_tok = torch.cat([\n",
    "                            y_tok, \n",
    "                            torch.ones([max_len_y - cur_len_y, 1], dtype = torch.int).to(DEVICE) * \\\n",
    "                                train_dataset.word_to_index[\"<pad>\"]\n",
    "                            ], dim = 0)\n",
    "            y_coord = torch.cat([y_coord, torch.zeros([max_len_y - cur_len_y, 4]).to(DEVICE)], dim = 0)\n",
    "            batch[i] = (X_tok, X_coord), (y_tok, y_coord)\n",
    "\n",
    "            X_tok_batch = torch.cat([X_tok_batch, X_tok.unsqueeze(0)], dim = 0).to(DEVICE)\n",
    "            X_coord_batch = torch.cat([X_coord_batch, X_coord.unsqueeze(0)], dim = 0).to(DEVICE)\n",
    "            y_tok_batch = torch.cat([y_tok_batch, y_tok.unsqueeze(0)], dim = 0).to(DEVICE)\n",
    "            y_coord_batch = torch.cat([y_coord_batch, y_coord.unsqueeze(0)], dim = 0).to(DEVICE)\n",
    "            \n",
    "        X_tok_batch = X_tok_batch[1:,:,:]\n",
    "        X_coord_batch = X_coord_batch[1:,:,:]\n",
    "        y_tok_batch = y_tok_batch[1:,:,:]\n",
    "        y_coord_batch = y_coord_batch[1:,:,:]\n",
    "        \n",
    "        return (X_tok_batch, X_coord_batch), (y_tok_batch, y_coord_batch)"
   ]
  },
  {
   "cell_type": "code",
   "execution_count": 9,
   "id": "af5f2771",
   "metadata": {},
   "outputs": [],
   "source": [
    "class PositionalEncoding(nn.Module):\n",
    "    def __init__(self, d_model, dropout=0.1, max_len=100):\n",
    "        super(PositionalEncoding, self).__init__()\n",
    "        self.dropout = nn.Dropout(p=dropout)\n",
    "\n",
    "        pe = torch.zeros(max_len, d_model)\n",
    "        position = torch.arange(0, max_len, dtype=torch.float).unsqueeze(1)\n",
    "        div_term = torch.exp(torch.arange(0, d_model, 2).float() * (-math.log(10000.0) / d_model))\n",
    "        pe[:, 0::2] = torch.sin(position * div_term)\n",
    "        pe[:, 1::2] = torch.cos(position * div_term)\n",
    "        pe = pe.unsqueeze(0).transpose(0, 1)\n",
    "        self.register_buffer('pe', pe)\n",
    "\n",
    "    def forward(self, x):\n",
    "        x = x + self.pe[:x.size(0), :]\n",
    "        return self.dropout(x)"
   ]
  },
  {
   "cell_type": "code",
   "execution_count": 10,
   "id": "05d54d55",
   "metadata": {},
   "outputs": [],
   "source": [
    "def gen_nopeek_mask(length):\n",
    "    \"\"\"\n",
    "     Returns the nopeek mask\n",
    "             Parameters:\n",
    "                     length (int): Number of tokens in each sentence in the target batch\n",
    "             Returns:\n",
    "                     mask (arr): tgt_mask, looks like [[0., -inf, -inf],\n",
    "                                                      [0., 0., -inf],\n",
    "                                                      [0., 0., 0.]]\n",
    "     \"\"\"\n",
    "    mask = rearrange(torch.triu(torch.ones(length, length)) == 1, 'h w -> w h')\n",
    "    mask = mask.float().masked_fill(mask == 0, float('-inf')).masked_fill(mask == 1, float(0.0))\n",
    "\n",
    "    return mask"
   ]
  },
  {
   "cell_type": "code",
   "execution_count": 11,
   "id": "28278acd",
   "metadata": {},
   "outputs": [],
   "source": [
    "class TransformerNet(nn.Module):\n",
    "    def __init__(self, num_vocab, embedding_dim, coord_dim, hidden_size, nhead, n_layers, dropout):\n",
    "        super(TransformerNet, self).__init__()\n",
    "        self.tok_emb = nn.Embedding(num_vocab, embedding_dim)\n",
    "        self.coord_emb = nn.Linear(4, coord_dim)\n",
    "        self.d_model = embedding_dim+coord_dim\n",
    "        self.pos_enc = PositionalEncoding(d_model=embedding_dim+coord_dim, \n",
    "                                          dropout=dropout, max_len=200)\n",
    "        \n",
    "        self.transformer = nn.Transformer(d_model=embedding_dim+coord_dim, nhead=nhead, \n",
    "                                          num_encoder_layers=n_layers, num_decoder_layers=n_layers, \n",
    "                                          dim_feedforward=hidden_size, dropout=dropout)\n",
    "        self.fc_tok = nn.Linear(embedding_dim+coord_dim, num_vocab)\n",
    "        self.fc_coord = nn.Linear(embedding_dim+coord_dim, 4)\n",
    "#         self.log_softmax = nn.LogSoftmax(dim = 2)\n",
    "\n",
    "    def forward(self, lst_arg):\n",
    "        (X_tok, X_coord), (y_tok, y_coord) = lst_arg\n",
    "        \n",
    "        trg_mask = gen_nopeek_mask(y_tok.shape[1]).to(DEVICE)\n",
    "        \n",
    "        token_embeddings_src = self.tok_emb(X_tok[:,:,0]) # [bs, seq_len, emb ]\n",
    "        coord_embeddings_src = self.coord_emb(X_coord) # [bs, seq_len, emb_coord ]\n",
    "        src = torch.cat([token_embeddings_src, coord_embeddings_src], dim = 2)\n",
    "        src = torch.transpose(src, 0,1)\n",
    "        \n",
    "        token_embeddings_trg = self.tok_emb(y_tok[:,:,0]) # [bs, seq_len, emb ]\n",
    "        coord_embeddings_trg = self.coord_emb(y_coord) # [bs, seq_len, emb_coord ]\n",
    "        trg = torch.cat([token_embeddings_trg, coord_embeddings_trg], dim = 2)\n",
    "        trg = torch.transpose(trg, 0,1)\n",
    "\n",
    "        src = self.pos_enc(src * math.sqrt(self.d_model))\n",
    "        trg = self.pos_enc(trg * math.sqrt(self.d_model))\n",
    "        \n",
    "        x = self.transformer(src, trg, tgt_mask = trg_mask)\n",
    "        \n",
    "        return (self.fc_tok(x).transpose(0,1), self.fc_coord(x).transpose(0,1))"
   ]
  },
  {
   "cell_type": "code",
   "execution_count": 12,
   "id": "6a9ec459",
   "metadata": {},
   "outputs": [],
   "source": [
    "model = TransformerNet(VOCAB_SIZE, EMBEDDING_DIM, COORDINATES_DIM, HIDDEN_SIZE, NUM_HEADS, \n",
    "                       NUM_LAYERS, DROPOUT).to(DEVICE)\n",
    "criterion_tok = nn.CrossEntropyLoss(reduction=\"sum\")\n",
    "criterion_coord = nn.MSELoss(reduction=\"sum\")\n",
    "optimizer = torch.optim.Adam(model.parameters(), lr = LEARNING_RATE)"
   ]
  },
  {
   "cell_type": "code",
   "execution_count": 13,
   "id": "81ab84e2",
   "metadata": {},
   "outputs": [
    {
     "data": {
      "text/plain": [
       "<All keys matched successfully>"
      ]
     },
     "execution_count": 13,
     "metadata": {},
     "output_type": "execute_result"
    }
   ],
   "source": [
    "model.load_state_dict(torch.load(\"../../interior_transformer_model_v2.pt\", \n",
    "                                 map_location=torch.device('cpu')))"
   ]
  },
  {
   "cell_type": "code",
   "execution_count": 14,
   "id": "a6703879",
   "metadata": {},
   "outputs": [
    {
     "data": {
      "text/plain": [
       "1866024"
      ]
     },
     "execution_count": 14,
     "metadata": {},
     "output_type": "execute_result"
    }
   ],
   "source": [
    "sum(p.numel() for p in model.parameters())"
   ]
  },
  {
   "cell_type": "code",
   "execution_count": 15,
   "id": "81d83a38",
   "metadata": {},
   "outputs": [],
   "source": [
    "loader = DataLoader(train_dataset, shuffle=False, pin_memory=True,\n",
    "                    batch_size=BATCH_SIZE,\n",
    "                    num_workers=0,\n",
    "                    drop_last = True, collate_fn=PadSequence())"
   ]
  },
  {
   "cell_type": "code",
   "execution_count": 16,
   "id": "cf984f81",
   "metadata": {},
   "outputs": [],
   "source": [
    "test_loader = DataLoader(test_dataset, shuffle=True, pin_memory=True,\n",
    "                    batch_size=1,\n",
    "                    num_workers=0,\n",
    "                    drop_last = True, collate_fn=PadSequence())"
   ]
  },
  {
   "cell_type": "code",
   "execution_count": 17,
   "id": "b6d5d75d",
   "metadata": {},
   "outputs": [],
   "source": [
    "def evaluate(model):\n",
    "    model.eval()\n",
    "    for i, (x, y) in tqdm(enumerate(test_loader), total=len(test_loader)):\n",
    "        break\n",
    "    (X_tok, X_coord) = x\n",
    "\n",
    "    sos_idx = train_dataset.word_to_index[\"<sos>\"]\n",
    "    output_tok = torch.tensor([[[sos_idx]]]).transpose(1,2)\n",
    "    output_coord = torch.zeros([1,1,4])\n",
    "\n",
    "    for i in range(100):\n",
    "        model_out_tok, model_out_coord = model((x, (output_tok, output_coord)))\n",
    "        pred_tok = model_out_tok[0,-1,:].argmax()\n",
    "        pred_coord = model_out_coord[0,-1,:]\n",
    "        output_tok = torch.cat([output_tok, pred_tok.view(1,1,1)], dim = 1)\n",
    "        output_coord = torch.cat([output_coord, pred_coord.view(1,1,4)], dim = 1)\n",
    "        if pred_tok == train_dataset.word_to_index[\"<eos>\"]:\n",
    "            break\n",
    "    \n",
    "    lst_tok = [train_dataset.index_to_word[i] for i in output_tok[0,:,0].tolist()]\n",
    "    lst_gt  = [train_dataset.index_to_word[i] for i in y[0][0,:,0].tolist()]\n",
    "    \n",
    "    print(\"GT: \", lst_gt[:100])\n",
    "    print(\"PRED: \", lst_tok[:100])"
   ]
  },
  {
   "cell_type": "code",
   "execution_count": null,
   "id": "cadb0b13",
   "metadata": {},
   "outputs": [],
   "source": [
    "loss_trace = []\n",
    "model.train()\n",
    "n_iter = 0\n",
    "lr = LEARNING_RATE\n",
    "\n",
    "for epoch in range(NUM_EPOCHS):\n",
    "    model.train()\n",
    "    current_loss = 0\n",
    "    for i, (x, y) in tqdm(enumerate(loader), total=len(loader)):\n",
    "        y_tok, y_coord = y\n",
    "        b, t, _ = y_tok.size()\n",
    "\n",
    "        logits_tok, pred_coord = model((x, (y_tok[:,:-1,:], y_coord[:,:-1,:])))\n",
    "        \n",
    "        loss_1 = criterion_tok(logits_tok.reshape(-1, logits_tok.size(-1)), y_tok[:,1:,:].reshape(-1))\n",
    "        loss_2 = criterion_coord(pred_coord, y_coord[:,1:,:])\n",
    "        loss_1 = loss_1 / b\n",
    "        loss_2 = loss_2 / b\n",
    "        loss = loss_1 + loss_2\n",
    "        writer.add_scalar('Loss/cross_entropy', loss_1.item(), n_iter)\n",
    "        writer.add_scalar('Loss/MSE', loss_2.item(), n_iter)\n",
    "        writer.add_scalar('Loss/general_loss', loss.item(), n_iter)\n",
    "        writer.add_scalar('LR/lr', lr, n_iter)\n",
    "        \n",
    "        optimizer.zero_grad()\n",
    "        loss.backward()\n",
    "        torch.nn.utils.clip_grad_norm_(model.parameters(), CLIP)\n",
    "        optimizer.step()\n",
    "        current_loss += loss.item()\n",
    "        n_iter += 1\n",
    "        if i > 10:\n",
    "            break\n",
    "    loss_trace.append(current_loss)\n",
    "    print(current_loss)\n",
    "    \n",
    "    if epoch < WARMUP_EPOCHS:\n",
    "        # linear warmup\n",
    "        lr_mult = float(epoch) / float(max(1, WARMUP_EPOCHS))\n",
    "    else:\n",
    "        # cosine learning rate decay\n",
    "        progress = float(epoch - WARMUP_EPOCHS) / float(max(1, NUM_EPOCHS/3.6 - WARMUP_EPOCHS))\n",
    "        lr_mult = max(0.1, 0.5 * (1.0 + math.cos(math.pi * progress)))\n",
    "    lr = LEARNING_RATE * lr_mult + lr*0.01\n",
    "    for param_group in optimizer.param_groups:\n",
    "        param_group['lr'] = lr\n",
    "    if epoch % 10 == 0:\n",
    "        torch.save(model.state_dict(), \"./interior_transformer_model_v2.pt\")\n",
    "        evaluate(model)\n",
    "\n",
    "# loss curve\n",
    "plt.plot(range(1, NUM_EPOCHS+1), loss_trace, 'r-')\n",
    "plt.xlabel('Epoch')\n",
    "plt.ylabel('Loss')\n",
    "plt.show()\n"
   ]
  },
  {
   "cell_type": "code",
   "execution_count": 20,
   "id": "fc330221",
   "metadata": {},
   "outputs": [
    {
     "data": {
      "text/plain": [
       "''"
      ]
     },
     "execution_count": 20,
     "metadata": {},
     "output_type": "execute_result"
    }
   ],
   "source": [
    "model.eval()\n",
    ";"
   ]
  },
  {
   "cell_type": "code",
   "execution_count": 21,
   "id": "ddf08876",
   "metadata": {},
   "outputs": [],
   "source": [
    "l = [int(x[len(\"entities_src_\"):][:-len(\".txt\")]) for x in \n",
    "        list(filter(None, \n",
    "        filter(lambda x: \".txt\" in x and x != 'vocab.csv', \n",
    "               os.listdir(TEST_DIR))))]\n",
    "max_index = max(l)\n",
    "test_dataset = Dataset(max_index)"
   ]
  },
  {
   "cell_type": "code",
   "execution_count": 22,
   "id": "dc229b2c",
   "metadata": {},
   "outputs": [],
   "source": [
    "test_loader = DataLoader(test_dataset, shuffle=True, pin_memory=True,\n",
    "                    batch_size=1,\n",
    "                    num_workers=0,\n",
    "                    drop_last = True, collate_fn=PadSequence())"
   ]
  },
  {
   "cell_type": "code",
   "execution_count": null,
   "id": "4955d28e",
   "metadata": {},
   "outputs": [],
   "source": []
  },
  {
   "cell_type": "code",
   "execution_count": 181,
   "id": "c73ae8ec",
   "metadata": {},
   "outputs": [],
   "source": [
    "loader = DataLoader(train_dataset, shuffle=True, pin_memory=True,\n",
    "                    batch_size=1,\n",
    "                    num_workers=0,\n",
    "                    drop_last = True, collate_fn=PadSequence())"
   ]
  },
  {
   "cell_type": "code",
   "execution_count": 193,
   "id": "603d1ff6",
   "metadata": {},
   "outputs": [
    {
     "name": "stderr",
     "output_type": "stream",
     "text": [
      "  0%|          | 0/79186 [00:00<?, ?it/s]\n"
     ]
    }
   ],
   "source": [
    "for i, (x, y) in tqdm(enumerate(loader), total=len(loader)):\n",
    "    break"
   ]
  },
  {
   "cell_type": "code",
   "execution_count": 194,
   "id": "dfdd4b63",
   "metadata": {},
   "outputs": [],
   "source": [
    "(X_tok, X_coord) = x\n",
    "token_embeddings_src = model.tok_emb(X_tok[:,:,0]) # [bs, seq_len, emb ]\n",
    "coord_embeddings_src = model.coord_emb(X_coord) # [bs, seq_len, emb_coord ]\n",
    "src = torch.cat([token_embeddings_src, coord_embeddings_src], dim = 2)\n",
    "src = torch.transpose(src, 0,1)\n",
    "src = model.pos_enc(src * math.sqrt(model.d_model))"
   ]
  },
  {
   "cell_type": "code",
   "execution_count": 195,
   "id": "16b4528e",
   "metadata": {},
   "outputs": [],
   "source": [
    "model.eval()\n",
    "sos_idx = train_dataset.word_to_index[\"<sos>\"]\n",
    "output_tok = torch.tensor([[[sos_idx]]]).transpose(1,2)\n",
    "output_coord = torch.zeros([1,1,4])\n",
    "# output_tok = y[0][:,:2,:]\n",
    "# output_coord = y[1][:,:2,:]\n",
    "\n",
    "for i in range(100):\n",
    "    model_out_tok, model_out_coord = model((x, (output_tok, output_coord)))\n",
    "    pred_tok = model_out_tok[0,-1,:].argmax()\n",
    "    pred_coord = model_out_coord[0,-1,:]\n",
    "    output_tok = torch.cat([output_tok, pred_tok.view(1,1,1)], dim = 1)\n",
    "    output_coord = torch.cat([output_coord, pred_coord.view(1,1,4)], dim = 1)\n",
    "    if pred_tok == train_dataset.word_to_index[\"<eos>\"]:\n",
    "        break"
   ]
  },
  {
   "cell_type": "code",
   "execution_count": 196,
   "id": "a2faad78",
   "metadata": {},
   "outputs": [],
   "source": [
    "lst_tok = [train_dataset.index_to_word[i] for i in output_tok[0,:,0].tolist()]"
   ]
  },
  {
   "cell_type": "code",
   "execution_count": 197,
   "id": "b5b83723",
   "metadata": {},
   "outputs": [
    {
     "name": "stdout",
     "output_type": "stream",
     "text": [
      "['<sos>', 'door', 'door', 'door', 'door', 'door', 'door', 'door', 'door', 'door', 'door', 'door', 'door', 'door', 'door', 'door', 'door', 'door', 'door', 'door', 'door', 'door', 'door', 'door', 'door', 'door', 'door', 'door', 'door', 'door', 'door', 'door', 'door', 'door', 'door', 'door', 'door', 'door', 'door', 'door', 'door', 'entrance', 'no_point', 'closet', 'closet', 'closet', 'closet', 'washing_basin', 'washing_basin', 'washing_basin', 'washing_basin', 'washing_basin', 'washing_basin', 'washing_basin', 'bedroom', 'kitchen', 'corridor', 'corridor', 'corridor', 'corridor', 'corridor', 'corridor', 'corridor', 'corridor', 'corridor', 'corridor', 'corridor', 'corridor', 'cooking_counter', 'restroom', 'restroom', 'restroom', 'bathtub', 'toilet', 'balcony', 'balcony', 'balcony', 'balcony', 'balcony', 'balcony', 'balcony', 'balcony', 'balcony', 'balcony', 'balcony', 'balcony', 'balcony', 'balcony', 'balcony', 'balcony', 'balcony', 'balcony', 'balcony', 'balcony', 'balcony', 'balcony', 'balcony', 'balcony', 'balcony', 'balcony', 'balcony', 'balcony']\n"
     ]
    }
   ],
   "source": [
    "print(lst_tok)"
   ]
  },
  {
   "cell_type": "code",
   "execution_count": 198,
   "id": "58827841",
   "metadata": {},
   "outputs": [
    {
     "data": {
      "text/plain": [
       "102"
      ]
     },
     "execution_count": 198,
     "metadata": {},
     "output_type": "execute_result"
    }
   ],
   "source": [
    "len(lst_tok)"
   ]
  },
  {
   "cell_type": "code",
   "execution_count": 199,
   "id": "36ca0966",
   "metadata": {},
   "outputs": [
    {
     "data": {
      "image/png": "[encoded data removed]",
      "text/plain": [
       "<Figure size 720x720 with 1 Axes>"
      ]
     },
     "metadata": {
      "needs_background": "light"
     },
     "output_type": "display_data"
    }
   ],
   "source": [
    "import matplotlib.pyplot as plt\n",
    "from matplotlib.patches import Rectangle\n",
    "\n",
    "fig, ax = plt.subplots(figsize = (10,10))\n",
    "\n",
    "c = 0\n",
    "ax.plot([c, c],[c, c])\n",
    "ax.autoscale()\n",
    "\n",
    "for idx, (category) in enumerate(lst_tok):\n",
    "    \n",
    "    x_min_val = output_coord[0, idx, 0]\n",
    "    y_min_val = output_coord[0, idx, 1]\n",
    "    x_max_val = output_coord[0, idx, 2]\n",
    "    y_max_val = output_coord[0, idx, 3]\n",
    "    \n",
    "    w = x_max_val - x_min_val\n",
    "    w = 0.005 if w == 0 else w\n",
    "    h = y_max_val - y_min_val\n",
    "    h = 0.005 if h == 0 else h\n",
    "    x_min_val = x_min_val #- m_x\n",
    "    y_min_val = y_min_val #- m_y\n",
    "    if category == \"wall\":\n",
    "        ax.add_patch(Rectangle((x_min_val, y_min_val), w, h, color = \"red\", alpha = 0.1))\n",
    "    elif category == \"door\":\n",
    "        ax.add_patch(Rectangle((x_min_val, y_min_val), w, h, color = \"blue\", alpha = 0.3))\n",
    "    else:\n",
    "        rectangle = Rectangle((x_min_val, y_min_val), w, h, color = \"green\", alpha = 0.3)\n",
    "        ax.add_patch(rectangle)\n",
    "        rx, ry = rectangle.get_xy()\n",
    "        cx = rx + rectangle.get_width()/2.0\n",
    "        cy = ry + rectangle.get_height()/2.0\n",
    "        ax.annotate(category, (cx, cy), color='black', weight='bold', fontsize=10, ha='center', va='center')\n",
    "\n",
    "for idx in range(x[1].shape[1]):\n",
    "    \n",
    "    x_min_val = x[1][0, idx, 0]\n",
    "    y_min_val = x[1][0, idx, 1]\n",
    "    x_max_val = x[1][0, idx, 2]\n",
    "    y_max_val = x[1][0, idx, 3]\n",
    "    \n",
    "    w = x_max_val - x_min_val\n",
    "    w = 0.005 if w == 0 else w\n",
    "    h = y_max_val - y_min_val\n",
    "    h = 0.005 if h == 0 else h\n",
    "    x_min_val = x_min_val #- m_x\n",
    "    y_min_val = y_min_val #- m_y\n",
    "    ax.add_patch(Rectangle((x_min_val, y_min_val), w, h, color = \"red\", alpha = 0.1))\n",
    "plt.show()"
   ]
  },
  {
   "cell_type": "code",
   "execution_count": 200,
   "id": "e182a757",
   "metadata": {},
   "outputs": [],
   "source": [
    "lst_tok_real = [train_dataset.index_to_word[i] for i in y[0][0,:,0].tolist()]"
   ]
  },
  {
   "cell_type": "code",
   "execution_count": 201,
   "id": "0a36832d",
   "metadata": {},
   "outputs": [
    {
     "data": {
      "image/png": "[encoded data removed]",
      "text/plain": [
       "<Figure size 720x720 with 1 Axes>"
      ]
     },
     "metadata": {
      "needs_background": "light"
     },
     "output_type": "display_data"
    }
   ],
   "source": [
    "import matplotlib.pyplot as plt\n",
    "from matplotlib.patches import Rectangle\n",
    "\n",
    "fig, ax = plt.subplots(figsize = (10,10))\n",
    "\n",
    "c = 0\n",
    "ax.plot([c, c],[c, c])\n",
    "ax.autoscale()\n",
    "\n",
    "for idx, (category) in enumerate(lst_tok_real):\n",
    "    \n",
    "#     category = category[0]\n",
    "    \n",
    "    x_min_val = y[1][0, idx, 0]\n",
    "    y_min_val = y[1][0, idx, 1]\n",
    "    x_max_val = y[1][0, idx, 2]\n",
    "    y_max_val = y[1][0, idx, 3]\n",
    "    \n",
    "    w = x_max_val - x_min_val\n",
    "    w = 0.005 if w == 0 else w\n",
    "    h = y_max_val - y_min_val\n",
    "    h = 0.005 if h == 0 else h\n",
    "    x_min_val = x_min_val #- m_x\n",
    "    y_min_val = y_min_val #- m_y\n",
    "    if category == \"wall\":\n",
    "        ax.add_patch(Rectangle((x_min_val, y_min_val), w, h, color = \"red\", alpha = 0.1))\n",
    "    elif category == \"door\":\n",
    "        ax.add_patch(Rectangle((x_min_val, y_min_val), w, h, color = \"blue\", alpha = 0.3))\n",
    "    else:\n",
    "        rectangle = Rectangle((x_min_val, y_min_val), w, h, color = \"green\", alpha = 0.3)\n",
    "        ax.add_patch(rectangle)\n",
    "        rx, ry = rectangle.get_xy()\n",
    "        cx = rx + rectangle.get_width()/2.0\n",
    "        cy = ry + rectangle.get_height()/2.0\n",
    "        ax.annotate(category, (cx, cy), color='black', weight='bold', fontsize=10, ha='center', va='center')\n",
    "\n",
    "for idx in range(x[1].shape[1]):\n",
    "    \n",
    "    x_min_val = x[1][0, idx, 0]\n",
    "    y_min_val = x[1][0, idx, 1]\n",
    "    x_max_val = x[1][0, idx, 2]\n",
    "    y_max_val = x[1][0, idx, 3]\n",
    "    \n",
    "    w = x_max_val - x_min_val\n",
    "    w = 0.005 if w == 0 else w\n",
    "    h = y_max_val - y_min_val\n",
    "    h = 0.005 if h == 0 else h\n",
    "    x_min_val = x_min_val #- m_x\n",
    "    y_min_val = y_min_val #- m_y\n",
    "    ax.add_patch(Rectangle((x_min_val, y_min_val), w, h, color = \"red\", alpha = 0.1))\n",
    "    \n",
    "plt.show()"
   ]
  },
  {
   "cell_type": "code",
   "execution_count": null,
   "id": "40c12746",
   "metadata": {},
   "outputs": [],
   "source": []
  },
  {
   "cell_type": "code",
   "execution_count": null,
   "id": "d5400c93",
   "metadata": {},
   "outputs": [],
   "source": []
  },
  {
   "cell_type": "code",
   "execution_count": 141,
   "id": "e3340f7c",
   "metadata": {},
   "outputs": [],
   "source": [
    "l = []\n",
    "lr = 2.\n",
    "WARMUP_EPOCHS = 10\n",
    "NUM_EPOCHS = 500 + 1\n",
    "for epoch_n in range(NUM_EPOCHS):\n",
    "    if epoch_n < WARMUP_EPOCHS:\n",
    "        # linear warmup\n",
    "        lr_mult = float(epoch_n) / float(max(1, WARMUP_EPOCHS))\n",
    "    else:\n",
    "        # cosine learning rate decay\n",
    "        progress = float(epoch_n-WARMUP_EPOCHS)/float(max(1, NUM_EPOCHS/(WARMUP_EPOCHS*0.34)-WARMUP_EPOCHS))\n",
    "        lr_mult = max(0.05, 0.5 * (1.0 + math.cos(math.pi * progress) )* min(1, 65*epoch_n**-0.88))\n",
    "    lr_add = lr * lr_mult + lr*0.01\n",
    "    l.append(lr_add)"
   ]
  },
  {
   "cell_type": "code",
   "execution_count": 142,
   "id": "802f5ea2",
   "metadata": {
    "scrolled": true
   },
   "outputs": [
    {
     "data": {
      "text/plain": [
       "[<matplotlib.lines.Line2D at 0x7fbf25e07bb0>]"
      ]
     },
     "execution_count": 142,
     "metadata": {},
     "output_type": "execute_result"
    },
    {
     "data": {
      "image/png": "[encoded data removed]",
      "text/plain": [
       "<Figure size 432x288 with 1 Axes>"
      ]
     },
     "metadata": {
      "needs_background": "light"
     },
     "output_type": "display_data"
    }
   ],
   "source": [
    "plt.plot(l)"
   ]
  },
  {
   "cell_type": "code",
   "execution_count": null,
   "id": "4a70e206",
   "metadata": {},
   "outputs": [],
   "source": []
  }
 ],
 "metadata": {
  "kernelspec": {
   "display_name": "Python 3",
   "language": "python",
   "name": "python3"
  },
  "language_info": {
   "codemirror_mode": {
    "name": "ipython",
    "version": 3
   },
   "file_extension": ".py",
   "mimetype": "text/x-python",
   "name": "python",
   "nbconvert_exporter": "python",
   "pygments_lexer": "ipython3",
   "version": "3.8.5"
  }
 },
 "nbformat": 4,
 "nbformat_minor": 5
}
