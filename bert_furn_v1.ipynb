{
 "cells": [
  {
   "cell_type": "code",
   "execution_count": 58,
   "id": "14ab0146",
   "metadata": {},
   "outputs": [],
   "source": [
    "import math\n",
    "import numpy as np\n",
    "from IPython.display import clear_output\n",
    "from tqdm.notebook import tqdm\n",
    "# from tqdm import tqdm\n",
    "\n",
    "import matplotlib as mpl\n",
    "import matplotlib.pyplot as plt\n",
    "%matplotlib inline\n",
    "import seaborn as sns\n",
    "sns.color_palette(\"bright\")\n",
    "import matplotlib as mpl\n",
    "import matplotlib.cm as cm\n",
    "import re\n",
    "\n",
    "import torch\n",
    "from torch import Tensor\n",
    "from torch import nn\n",
    "from torch.nn  import functional as F \n",
    "from torch.autograd import Variable\n",
    "from torch.utils.data.sampler import SubsetRandomSampler\n",
    "import os\n",
    "import pandas as pd\n",
    "from torch.utils.data.dataloader import DataLoader\n",
    "from torch.utils.tensorboard import SummaryWriter\n",
    "from pathlib import Path\n",
    "import random\n",
    "from torch.nn import TransformerEncoder, TransformerEncoderLayer\n",
    "from torch.optim.lr_scheduler import ReduceLROnPlateau, ExponentialLR\n",
    "from warmup_scheduler import GradualWarmupScheduler"
   ]
  },
  {
   "cell_type": "code",
   "execution_count": 75,
   "id": "36f33d0b",
   "metadata": {},
   "outputs": [],
   "source": [
    "NUM_EPOCHS = 170\n",
    "HIDDEN_SIZE = 300\n",
    "EMBEDDING_DIM = 100\n",
    "COORDINATES_DIM = 120\n",
    "BATCH_SIZE = 3\n",
    "NUM_HEADS = 4\n",
    "NUM_LAYERS = 3\n",
    "LEARNING_RATE = 0.002\n",
    "DEVICE = torch.device('cuda') if torch.cuda.is_available() else torch.device(\"cpu\") \n",
    "DROPOUT = 0.2\n",
    "CLIP = 1.0\n",
    "WARMUP_EPOCHS = 10\n",
    "TRAIN_DIR = Path(\"./data_interior_4_train/\")\n",
    "TEST_DIR = Path(\"./data_interior_4_test/\")\n",
    "DROP_WORD_PROB = 0.15\n",
    "DROP_CRD_PROB = 0.15"
   ]
  },
  {
   "cell_type": "code",
   "execution_count": 60,
   "id": "edc357ff",
   "metadata": {},
   "outputs": [],
   "source": [
    "writer = SummaryWriter()"
   ]
  },
  {
   "cell_type": "code",
   "execution_count": 61,
   "id": "72a74c1f",
   "metadata": {},
   "outputs": [],
   "source": [
    "class Dataset(torch.utils.data.Dataset):\n",
    "    def __init__(self, max_index):\n",
    "        self.words = pd.read_csv(TRAIN_DIR/\"vocab.csv\", index_col=0)[\"0\"].values.tolist()\n",
    "        self.vocab = [\"<pad>\", \"<sos>\", \"<eos>\", \"<unk>\", \"<mask>\"] + self.words\n",
    "        self.vocab_size = len(self.vocab)\n",
    "        self.index_to_word = {index: word for index, word in enumerate(self.vocab)}\n",
    "        self.word_to_index = {word: index for index, word in enumerate(self.vocab)}\n",
    "        self.block_size = 127\n",
    "        self.max_index = max_index\n",
    "        \n",
    "    def __len__(self):\n",
    "        return self.max_index\n",
    "    \n",
    "    def __getitem__(self, index):\n",
    "        \n",
    "        try:\n",
    "            lst_tokens_src = np.loadtxt(\n",
    "                             TRAIN_DIR/'entities_src_{}.txt'.format(index), dtype=str\n",
    "                         )[:self.block_size-2].tolist()\n",
    "            lst_tokens_trg = np.loadtxt(\n",
    "                             TRAIN_DIR/'entities_trg_{}.txt'.format(index), dtype=str\n",
    "                         )[:self.block_size-2].tolist()\n",
    "\n",
    "            coord_tensor_src = torch.tensor(\n",
    "                np.load(TRAIN_DIR/\"coordinates_src_{}.npy\".format(index)), \n",
    "                dtype = torch.float).t()[:self.block_size-2,:].to(DEVICE)\n",
    "            coord_tensor_trg = torch.tensor(\n",
    "                np.load(TRAIN_DIR/\"coordinates_trg_{}.npy\".format(index)), \n",
    "                dtype = torch.float).t()[:self.block_size-2,:].to(DEVICE)\n",
    "        except:\n",
    "            print(index, end = \", \")\n",
    "            return ((torch.rand(2,2),torch.rand(2,2)), (torch.rand(2,2),torch.rand(2,2)))\n",
    "        \n",
    "        # for bert \n",
    "        sentence_src = [\"<sos>\"] + lst_tokens_src + lst_tokens_trg + [\"<eos>\"]\n",
    "        sentence_trg = [\"<sos>\"] + lst_tokens_src + lst_tokens_trg + [\"<eos>\"]\n",
    "        \n",
    "        sentence_indices_src = [self.word_to_index[w] for w in sentence_src]\n",
    "        sentence_indices_trg = [self.word_to_index[w] for w in sentence_trg]        \n",
    "        \n",
    "        for i, token in enumerate(sentence_indices_src):\n",
    "            prob = random.random()\n",
    "            if prob < DROP_WORD_PROB:\n",
    "                prob /= 0.15\n",
    "\n",
    "                # 80% randomly change token to mask token\n",
    "                if prob < 0.8:\n",
    "                    sentence_indices_src[i] = self.word_to_index[\"<mask>\"]\n",
    "\n",
    "                # 10% randomly change token to random token\n",
    "                elif prob < 0.9:\n",
    "                    sentence_indices_src[i] = random.randrange(len(self.vocab))\n",
    "\n",
    "        tokens_tenor_src = torch.tensor(sentence_indices_src).to(DEVICE)\n",
    "        tokens_tenor_trg = torch.tensor(sentence_indices_trg).to(DEVICE)\n",
    "        \n",
    "        coord_tensor_trg_masked = coord_tensor_trg.clone()\n",
    "        \n",
    "        for i in range(coord_tensor_trg_masked.shape[0]):\n",
    "            prob = random.random()\n",
    "            if prob < DROP_CRD_PROB:\n",
    "                coord_tensor_trg_masked[i,:] = torch.normal(0,1,[1,4])\n",
    "        \n",
    "        coord_padded_src = torch.cat([\n",
    "            torch.zeros([1,4]).to(DEVICE),\n",
    "            coord_tensor_src,\n",
    "            coord_tensor_trg_masked,\n",
    "            torch.zeros([1,4]).to(DEVICE),\n",
    "        ])\n",
    "        \n",
    "        coord_padded_trg = torch.cat([\n",
    "            torch.zeros([1,4]).to(DEVICE),\n",
    "            coord_tensor_src,\n",
    "            coord_tensor_trg,\n",
    "            torch.zeros([1,4]).to(DEVICE),\n",
    "        ])\n",
    "        \n",
    "        return ((tokens_tenor_src.unsqueeze(0).t(), coord_padded_src),\n",
    "                (tokens_tenor_trg.unsqueeze(0).t(), coord_padded_trg))"
   ]
  },
  {
   "cell_type": "code",
   "execution_count": 62,
   "id": "5bb2f9ee",
   "metadata": {},
   "outputs": [],
   "source": [
    "l = [int(x[len(\"entities_src_\"):][:-len(\".txt\")]) for x in \n",
    "        list(filter(None, \n",
    "        filter(lambda x: \".txt\" in x and x != 'vocab.csv', \n",
    "               os.listdir(TRAIN_DIR))))]\n",
    "max_index = max(l)\n",
    "train_dataset = Dataset(max_index)"
   ]
  },
  {
   "cell_type": "code",
   "execution_count": 63,
   "id": "c2d7916c",
   "metadata": {},
   "outputs": [],
   "source": [
    "VOCAB_SIZE = train_dataset.vocab_size"
   ]
  },
  {
   "cell_type": "code",
   "execution_count": 64,
   "id": "7f85aba8",
   "metadata": {},
   "outputs": [],
   "source": [
    "class PadSequence:\n",
    "    def __call__(self, batch):\n",
    "        len_batch = len(batch)\n",
    "        max_len_X = max([batch[i][0][0].shape[0] for i in range(len_batch)])\n",
    "        max_len_y = max([batch[i][1][0].shape[0] for i in range(len_batch)])\n",
    "        X_tok_batch = torch.zeros([1, max_len_X, 1], dtype = torch.int).to(DEVICE) \n",
    "        X_coord_batch = torch.zeros([1, max_len_X, 4]).to(DEVICE) \n",
    "        y_tok_batch = torch.zeros([1, max_len_y, 1], dtype = torch.int).to(DEVICE) \n",
    "        y_coord_batch = torch.zeros([1, max_len_y, 4]).to(DEVICE) \n",
    "        for i in range(len_batch):\n",
    "            (X_tok, X_coord), (y_tok, y_coord) = batch[i]\n",
    "\n",
    "            cur_len_X = X_tok.shape[0]\n",
    "            cur_len_y = y_tok.shape[0]\n",
    "            X_tok = torch.cat([\n",
    "                            X_tok.to(DEVICE), \n",
    "                            torch.ones([max_len_X - cur_len_X, 1], dtype = torch.int).to(DEVICE) * \\\n",
    "                                train_dataset.word_to_index[\"<pad>\"]\n",
    "                            ], dim = 0)\n",
    "            X_coord = torch.cat([X_coord.to(DEVICE), torch.zeros([max_len_X - cur_len_X, 4]).to(DEVICE)], dim = 0)\n",
    "            y_tok = torch.cat([\n",
    "                            y_tok.to(DEVICE), \n",
    "                            torch.ones([max_len_y - cur_len_y, 1], dtype = torch.int).to(DEVICE) * \\\n",
    "                                train_dataset.word_to_index[\"<pad>\"]\n",
    "                            ], dim = 0)\n",
    "            y_coord = torch.cat([y_coord.to(DEVICE), torch.zeros([max_len_y - cur_len_y, 4]).to(DEVICE)], dim = 0)\n",
    "            batch[i] = (X_tok, X_coord), (y_tok, y_coord)\n",
    "\n",
    "            X_tok_batch = torch.cat([X_tok_batch, X_tok.unsqueeze(0)], dim = 0).to(DEVICE)\n",
    "            X_coord_batch = torch.cat([X_coord_batch, X_coord.unsqueeze(0)], dim = 0).to(DEVICE)\n",
    "            y_tok_batch = torch.cat([y_tok_batch, y_tok.unsqueeze(0)], dim = 0).to(DEVICE)\n",
    "            y_coord_batch = torch.cat([y_coord_batch, y_coord.unsqueeze(0)], dim = 0).to(DEVICE)\n",
    "            \n",
    "        X_tok_batch = X_tok_batch[1:,:,:]\n",
    "        X_coord_batch = X_coord_batch[1:,:,:]\n",
    "        y_tok_batch = y_tok_batch[1:,:,:]\n",
    "        y_coord_batch = y_coord_batch[1:,:,:]\n",
    "        \n",
    "        return (X_tok_batch, X_coord_batch), (y_tok_batch, y_coord_batch)"
   ]
  },
  {
   "cell_type": "code",
   "execution_count": 65,
   "id": "aa4dfd1a",
   "metadata": {},
   "outputs": [],
   "source": [
    "train_loader = DataLoader(train_dataset, shuffle=False, pin_memory=False,\n",
    "                    batch_size=BATCH_SIZE,\n",
    "                    num_workers=0,\n",
    "                    drop_last = True, collate_fn=PadSequence())"
   ]
  },
  {
   "cell_type": "code",
   "execution_count": 66,
   "id": "be391d5b",
   "metadata": {},
   "outputs": [],
   "source": [
    "for batch in train_loader:\n",
    "    break"
   ]
  },
  {
   "cell_type": "code",
   "execution_count": 67,
   "id": "cab4f43f",
   "metadata": {},
   "outputs": [],
   "source": [
    "class TransformerModel(nn.Module):\n",
    "\n",
    "    def __init__(self, ntoken: int, d_model: int, nhead: int, d_hid: int,\n",
    "                 nlayers: int, dropout: float = 0.5, coord_dim: int = 4):\n",
    "        super().__init__()\n",
    "        self.model_type = 'Transformer'\n",
    "        self.pos_encoder = PositionalEncoding(d_model, dropout)\n",
    "        encoder_layers = TransformerEncoderLayer(d_model, nhead, d_hid, dropout)\n",
    "        self.transformer_encoder = TransformerEncoder(encoder_layers, nlayers)\n",
    "        self.encoder_tok = nn.Embedding(ntoken, d_model - coord_dim)\n",
    "        self.encoder_coord = nn.Linear(4, coord_dim)\n",
    "        self.d_model = d_model\n",
    "        self.decoder_tok = nn.Linear(d_model, ntoken)\n",
    "        self.decoder_coord = nn.Linear(d_model, 4)\n",
    "\n",
    "        self.init_weights()\n",
    "\n",
    "    def init_weights(self) -> None:\n",
    "        initrange = 0.1\n",
    "        self.encoder_tok.weight.data.uniform_(-initrange, initrange)\n",
    "        self.encoder_coord.bias.data.zero_()\n",
    "        self.encoder_coord.weight.data.uniform_(-initrange, initrange)\n",
    "        \n",
    "        self.decoder_tok.bias.data.zero_()\n",
    "        self.decoder_tok.weight.data.uniform_(-initrange, initrange)\n",
    "        self.decoder_coord.bias.data.zero_()\n",
    "        self.decoder_coord.weight.data.uniform_(-initrange, initrange)\n",
    "\n",
    "    def forward(self, lst_arg) -> Tensor:\n",
    "        \"\"\"\n",
    "        Args:\n",
    "            src: Tensor, shape [seq_len, batch_size]\n",
    "\n",
    "        Returns:\n",
    "            output Tensor of shape [seq_len, batch_size, ntoken]\n",
    "        \"\"\"\n",
    "        (X_tok, X_coord), (y_tok, y_coord) = lst_arg\n",
    "        token_embeddings_src = self.encoder_tok(X_tok[:,:,0]) # [ bs, seq_len, emb ]\n",
    "        coord_embeddings_src = self.encoder_coord(X_coord) # [ bs, seq_len, emb_coord ]\n",
    "        src = torch.cat([token_embeddings_src, coord_embeddings_src], dim = 2)\n",
    "        src = torch.transpose(src, 0,1) # [ seq_len, bs, emb+emb_coord ]\n",
    "        \n",
    "        src_key_padding_mask = (X_tok == 0)[:,:,0]\n",
    "        \n",
    "        src = src * math.sqrt(self.d_model)\n",
    "        src = self.pos_encoder(src)\n",
    "        output = self.transformer_encoder(src, src_key_padding_mask=src_key_padding_mask)\n",
    "        \n",
    "        output_tok = self.decoder_tok(output) # [ seq_len, bs, ntoken ]\n",
    "        output_coord = self.decoder_coord(output) # [ seq_len, bs, 4 ]\n",
    "        \n",
    "        output_tok = output_tok.transpose(0,1) # [ bs, seq_len, ntoken ]\n",
    "        output_coord = output_coord.transpose(0,1) # [ bs, seq_len, 4 ]\n",
    "        \n",
    "        return (output_tok, output_coord)"
   ]
  },
  {
   "cell_type": "code",
   "execution_count": 68,
   "id": "b723d00d",
   "metadata": {},
   "outputs": [],
   "source": [
    "class PositionalEncoding(nn.Module):\n",
    "\n",
    "    def __init__(self, d_model: int, dropout: float = 0.1, max_len: int = 5000):\n",
    "        super().__init__()\n",
    "        self.dropout = nn.Dropout(p=dropout)\n",
    "\n",
    "        position = torch.arange(max_len).unsqueeze(1).to(DEVICE)\n",
    "        div_term = torch.exp(torch.arange(0, d_model, 2) * (-math.log(10000.0) / d_model)).to(DEVICE)\n",
    "        pe = torch.zeros(max_len, 1, d_model).to(DEVICE)\n",
    "        pe[:, 0, 0::2] = torch.sin(position * div_term)\n",
    "        pe[:, 0, 1::2] = torch.cos(position * div_term)\n",
    "        self.register_buffer('pe', pe)\n",
    "\n",
    "    def forward(self, x: Tensor) -> Tensor:\n",
    "        \"\"\"\n",
    "        Args:\n",
    "            x: Tensor, shape [seq_len, batch_size, embedding_dim]\n",
    "        \"\"\"\n",
    "        x = x + self.pe[:x.size(0)]\n",
    "        return self.dropout(x)"
   ]
  },
  {
   "cell_type": "code",
   "execution_count": null,
   "id": "b8f24bbd",
   "metadata": {},
   "outputs": [],
   "source": []
  },
  {
   "cell_type": "code",
   "execution_count": 69,
   "id": "5a66ce0d",
   "metadata": {},
   "outputs": [],
   "source": [
    "model = TransformerModel(VOCAB_SIZE, EMBEDDING_DIM+COORDINATES_DIM, \n",
    "                         NUM_HEADS, HIDDEN_SIZE, NUM_LAYERS, DROPOUT, COORDINATES_DIM).to(DEVICE)"
   ]
  },
  {
   "cell_type": "code",
   "execution_count": 70,
   "id": "72b2a493",
   "metadata": {},
   "outputs": [
    {
     "data": {
      "text/plain": [
       "999569"
      ]
     },
     "execution_count": 70,
     "metadata": {},
     "output_type": "execute_result"
    }
   ],
   "source": [
    "sum(p.numel() for p in model.parameters())"
   ]
  },
  {
   "cell_type": "code",
   "execution_count": 71,
   "id": "d6459b40",
   "metadata": {},
   "outputs": [],
   "source": [
    "criterion_tok = nn.CrossEntropyLoss(reduction=\"sum\")\n",
    "criterion_coord = nn.SmoothL1Loss(reduction=\"none\")\n",
    "optimizer = torch.optim.Adam(model.parameters(), lr = LEARNING_RATE)\n",
    "scheduler = torch.optim.lr_scheduler.ReduceLROnPlateau(optimizer, 'min', \n",
    "                                                 0.5, 10, 1e-6,'rel',\n",
    "                                                 min_lr=0.00001,verbose=True)"
   ]
  },
  {
   "cell_type": "code",
   "execution_count": null,
   "id": "be0be482",
   "metadata": {},
   "outputs": [],
   "source": [
    "model.train()\n",
    "n_iter = 0\n",
    "lr = LEARNING_RATE\n",
    "loss_trace = []\n",
    "flag_warmup_updated = False\n",
    "flag_normal_updated = False\n",
    "for epoch in range(NUM_EPOCHS):\n",
    "    current_loss = 0\n",
    "    \n",
    "    if epoch < WARMUP_EPOCHS:\n",
    "        lr_mult = float(epoch) / float(max(1, WARMUP_EPOCHS))\n",
    "        lr = LEARNING_RATE * lr_mult + LEARNING_RATE*0.0001\n",
    "        for param_group in optimizer.param_groups:\n",
    "            param_group['lr'] = lr\n",
    "    if epoch >= WARMUP_EPOCHS and flag_normal_updated == False:\n",
    "        for param_group in optimizer.param_groups:\n",
    "            param_group['lr'] = LEARNING_RATE\n",
    "        flag_normal_updated = True\n",
    "    \n",
    "    for i, (x, y) in tqdm(enumerate(train_loader), total=len(train_loader)):\n",
    "        y_tok, y_coord = y\n",
    "        b, t, _ = y_tok.size()\n",
    "\n",
    "        logits_tok, pred_coord = model((x, y))\n",
    "        \n",
    "        loss_1 = criterion_tok(logits_tok.reshape(-1, logits_tok.size(-1)), y_tok.view(-1))\n",
    "        loss_2 = (criterion_coord(pred_coord,y_coord) * (abs(y_coord) > 0.00001).int())\\\n",
    "                                .mean(0).sum(0).mean(0)\n",
    "        loss_1 = loss_1 / b\n",
    "        loss_2 = loss_2 / b\n",
    "        loss = loss_1 + loss_2\n",
    "        writer.add_scalar('Loss/cross_entropy', loss_1.item(), n_iter)\n",
    "        writer.add_scalar('Loss/MSE', loss_2.item(), n_iter)\n",
    "        writer.add_scalar('Loss/general_loss', loss.item(), n_iter)\n",
    "        writer.add_scalar('LR/lr', lr, n_iter)\n",
    "        \n",
    "        optimizer.zero_grad()\n",
    "        loss.backward()\n",
    "        torch.nn.utils.clip_grad_norm_(model.parameters(), CLIP)\n",
    "        optimizer.step()\n",
    "        scheduler.step(loss)\n",
    "        current_loss += loss.item()\n",
    "        n_iter += 1\n",
    "#         break\n",
    "    loss_trace.append(current_loss)\n",
    "    if epoch % 10 == 0:\n",
    "        torch.save(model.state_dict(), \"./interior_bert_v1.pt\")"
   ]
  },
  {
   "cell_type": "code",
   "execution_count": 73,
   "id": "2fb51851",
   "metadata": {},
   "outputs": [
    {
     "data": {
      "text/plain": [
       "<All keys matched successfully>"
      ]
     },
     "execution_count": 73,
     "metadata": {},
     "output_type": "execute_result"
    }
   ],
   "source": [
    "model.load_state_dict(torch.load(\"./interior_bert_v1(2).pt\", \n",
    "                                 map_location=torch.device('cpu')))"
   ]
  },
  {
   "cell_type": "code",
   "execution_count": 77,
   "id": "ec7e6e3c",
   "metadata": {},
   "outputs": [],
   "source": [
    "class Dataset(torch.utils.data.Dataset):\n",
    "    def __init__(self, max_index):\n",
    "        self.vocab = train_dataset.vocab\n",
    "        self.vocab_size = len(self.vocab)\n",
    "        self.index_to_word = train_dataset.index_to_word\n",
    "        self.word_to_index = train_dataset.word_to_index \n",
    "        self.block_size = 127\n",
    "        self.max_index = max_index\n",
    "        \n",
    "    def __len__(self):\n",
    "        return self.max_index\n",
    "    \n",
    "    def __getitem__(self, index):\n",
    "        \n",
    "        try:\n",
    "            lst_tokens_src = np.loadtxt(\n",
    "                             TEST_DIR/'entities_src_{}.txt'.format(index), dtype=str\n",
    "                         )[:self.block_size-2].tolist()\n",
    "            lst_tokens_trg = np.loadtxt(\n",
    "                             TEST_DIR/'entities_trg_{}.txt'.format(index), dtype=str\n",
    "                         )[:self.block_size-2].tolist()\n",
    "\n",
    "            coord_tensor_src = torch.tensor(\n",
    "                np.load(TEST_DIR/\"coordinates_src_{}.npy\".format(index)), \n",
    "                dtype = torch.float).t()[:self.block_size-2,:].to(DEVICE)\n",
    "            coord_tensor_trg = torch.tensor(\n",
    "                np.load(TEST_DIR/\"coordinates_trg_{}.npy\".format(index)), \n",
    "                dtype = torch.float).t()[:self.block_size-2,:].to(DEVICE)\n",
    "        except:\n",
    "            print(index, end = \", \")\n",
    "            return ((torch.rand(2,2),torch.rand(2,2)), (torch.rand(2,2),torch.rand(2,2)))\n",
    "        \n",
    "        # for bert \n",
    "        sentence_src = [\"<sos>\"] + lst_tokens_src + lst_tokens_trg + [\"<eos>\"]\n",
    "        sentence_trg = [\"<sos>\"] + lst_tokens_src + lst_tokens_trg + [\"<eos>\"]\n",
    "        \n",
    "        sentence_indices_src = [self.word_to_index[w] for w in sentence_src]\n",
    "        sentence_indices_trg = [self.word_to_index[w] for w in sentence_trg]        \n",
    "        \n",
    "        tokens_tenor_src = torch.tensor(sentence_indices_src).to(DEVICE)\n",
    "        tokens_tenor_trg = torch.tensor(sentence_indices_trg).to(DEVICE)\n",
    "        \n",
    "        coord_tensor_trg_masked = coord_tensor_trg.clone()\n",
    "        \n",
    "        for i in range(coord_tensor_trg_masked.shape[0]):\n",
    "            coord_tensor_trg_masked[i,:] = torch.normal(0,1,[1,4])\n",
    "        \n",
    "        coord_padded_src = torch.cat([\n",
    "            torch.zeros([1,4]).to(DEVICE),\n",
    "            coord_tensor_src,\n",
    "            coord_tensor_trg_masked,\n",
    "            torch.zeros([1,4]).to(DEVICE),\n",
    "        ])\n",
    "        \n",
    "        coord_padded_trg = torch.cat([\n",
    "            torch.zeros([1,4]).to(DEVICE),\n",
    "            coord_tensor_src,\n",
    "            coord_tensor_trg,\n",
    "            torch.zeros([1,4]).to(DEVICE),\n",
    "        ])\n",
    "        \n",
    "        return ((tokens_tenor_src.unsqueeze(0).t(), coord_padded_src),\n",
    "                (tokens_tenor_trg.unsqueeze(0).t(), coord_padded_trg))"
   ]
  },
  {
   "cell_type": "code",
   "execution_count": 164,
   "id": "2d31219a",
   "metadata": {},
   "outputs": [],
   "source": [
    "l = [int(x[len(\"entities_src_\"):][:-len(\".txt\")]) for x in \n",
    "        list(filter(None, \n",
    "        filter(lambda x: \".txt\" in x and x != 'vocab.csv', \n",
    "               os.listdir(TEST_DIR))))]\n",
    "max_index = max(l)\n",
    "test_dataset = Dataset(max_index)\n",
    "\n",
    "test_loader = DataLoader(test_dataset, shuffle=True, pin_memory=False,\n",
    "                    batch_size=1,\n",
    "                    num_workers=0,\n",
    "                    drop_last = True, collate_fn=PadSequence())"
   ]
  },
  {
   "cell_type": "code",
   "execution_count": 167,
   "id": "13a74058",
   "metadata": {},
   "outputs": [],
   "source": [
    "for batch in test_loader:\n",
    "    break"
   ]
  },
  {
   "cell_type": "code",
   "execution_count": 168,
   "id": "71e05359",
   "metadata": {},
   "outputs": [
    {
     "data": {
      "text/plain": [
       "''"
      ]
     },
     "execution_count": 168,
     "metadata": {},
     "output_type": "execute_result"
    }
   ],
   "source": [
    "model.eval()\n",
    ";"
   ]
  },
  {
   "cell_type": "code",
   "execution_count": 169,
   "id": "a5010332",
   "metadata": {},
   "outputs": [],
   "source": [
    "logits_tok, output_coord = model(batch)\n",
    "pred_tok = logits_tok[0,:,:].argmax(dim=1)"
   ]
  },
  {
   "cell_type": "code",
   "execution_count": 170,
   "id": "6a864cc5",
   "metadata": {},
   "outputs": [],
   "source": [
    "lst_tok = [train_dataset.index_to_word[i] for i in pred_tok.tolist()]"
   ]
  },
  {
   "cell_type": "code",
   "execution_count": 171,
   "id": "80dea9a5",
   "metadata": {},
   "outputs": [
    {
     "data": {
      "image/png": "[encoded data removed]",
      "text/plain": [
       "<Figure size 720x720 with 1 Axes>"
      ]
     },
     "metadata": {
      "needs_background": "light"
     },
     "output_type": "display_data"
    }
   ],
   "source": [
    "import matplotlib.pyplot as plt\n",
    "from matplotlib.patches import Rectangle\n",
    "\n",
    "fig, ax = plt.subplots(figsize = (10,10))\n",
    "\n",
    "c = 0\n",
    "ax.plot([c, c],[c, c])\n",
    "ax.autoscale()\n",
    "\n",
    "for idx, (category) in enumerate(lst_tok):\n",
    "    \n",
    "    x_min_val = output_coord[0, idx, 0].detach().numpy()\n",
    "    y_min_val = output_coord[0, idx, 1].detach().numpy()\n",
    "    x_max_val = output_coord[0, idx, 2].detach().numpy()\n",
    "    y_max_val = output_coord[0, idx, 3].detach().numpy()\n",
    "    \n",
    "    w = x_max_val - x_min_val\n",
    "    w = 0.005 if w == 0 else w\n",
    "    h = y_max_val - y_min_val\n",
    "    h = 0.005 if h == 0 else h\n",
    "    x_min_val = x_min_val #- m_x\n",
    "    y_min_val = y_min_val #- m_y\n",
    "    if category == \"wall\":\n",
    "        ax.add_patch(Rectangle((x_min_val, y_min_val), w, h, color = \"red\", alpha = 0.1))\n",
    "    elif category == \"door\":\n",
    "        ax.add_patch(Rectangle((x_min_val, y_min_val), w, h, color = \"blue\", alpha = 0.3))\n",
    "    else:\n",
    "        rectangle = Rectangle((x_min_val, y_min_val), w, h, color = \"green\", alpha = 0.3)\n",
    "        ax.add_patch(rectangle)\n",
    "        rx, ry = rectangle.get_xy()\n",
    "        cx = rx + rectangle.get_width()/2.0\n",
    "        cy = ry + rectangle.get_height()/2.0\n",
    "        ax.annotate(category, (cx, cy), color='black', weight='bold', fontsize=10, ha='center', va='center')\n",
    "plt.show()"
   ]
  },
  {
   "cell_type": "code",
   "execution_count": 173,
   "id": "eb19fbca",
   "metadata": {},
   "outputs": [],
   "source": [
    "lst_tok = [train_dataset.index_to_word[i] for i in batch[1][0][0,:,0].tolist()]"
   ]
  },
  {
   "cell_type": "code",
   "execution_count": 174,
   "id": "1353e791",
   "metadata": {},
   "outputs": [
    {
     "data": {
      "image/png": "[encoded data removed]",
      "text/plain": [
       "<Figure size 720x720 with 1 Axes>"
      ]
     },
     "metadata": {
      "needs_background": "light"
     },
     "output_type": "display_data"
    }
   ],
   "source": [
    "import matplotlib.pyplot as plt\n",
    "from matplotlib.patches import Rectangle\n",
    "\n",
    "fig, ax = plt.subplots(figsize = (10,10))\n",
    "\n",
    "c = 0\n",
    "ax.plot([c, c],[c, c])\n",
    "ax.autoscale()\n",
    "\n",
    "for idx, (category) in enumerate(lst_tok):\n",
    "    \n",
    "    x_min_val = batch[1][1][0, idx, 0].detach().numpy()\n",
    "    y_min_val = batch[1][1][0, idx, 1].detach().numpy()\n",
    "    x_max_val = batch[1][1][0, idx, 2].detach().numpy()\n",
    "    y_max_val = batch[1][1][0, idx, 3].detach().numpy()\n",
    "    \n",
    "    w = x_max_val - x_min_val\n",
    "    w = 0.005 if w == 0 else w\n",
    "    h = y_max_val - y_min_val\n",
    "    h = 0.005 if h == 0 else h\n",
    "    x_min_val = x_min_val #- m_x\n",
    "    y_min_val = y_min_val #- m_y\n",
    "    if category == \"wall\":\n",
    "        ax.add_patch(Rectangle((x_min_val, y_min_val), w, h, color = \"red\", alpha = 0.1))\n",
    "    elif category == \"door\":\n",
    "        ax.add_patch(Rectangle((x_min_val, y_min_val), w, h, color = \"blue\", alpha = 0.3))\n",
    "    elif \"no_\" in category or \"<\" in category:\n",
    "        pass\n",
    "    else:\n",
    "        rectangle = Rectangle((x_min_val, y_min_val), w, h, color = \"green\", alpha = 0.3)\n",
    "        ax.add_patch(rectangle)\n",
    "        rx, ry = rectangle.get_xy()\n",
    "        cx = rx + rectangle.get_width()/2.0\n",
    "        cy = ry + rectangle.get_height()/2.0\n",
    "        ax.annotate(category, (cx, cy), color='black', weight='bold', fontsize=10, ha='center', va='center')\n",
    "\n",
    "plt.show()"
   ]
  },
  {
   "cell_type": "code",
   "execution_count": null,
   "id": "9efc1af1",
   "metadata": {},
   "outputs": [],
   "source": []
  },
  {
   "cell_type": "code",
   "execution_count": null,
   "id": "854d7fb4",
   "metadata": {},
   "outputs": [],
   "source": []
  }
 ],
 "metadata": {
  "kernelspec": {
   "display_name": "Python 3",
   "language": "python",
   "name": "python3"
  },
  "language_info": {
   "codemirror_mode": {
    "name": "ipython",
    "version": 3
   },
   "file_extension": ".py",
   "mimetype": "text/x-python",
   "name": "python",
   "nbconvert_exporter": "python",
   "pygments_lexer": "ipython3",
   "version": "3.8.5"
  }
 },
 "nbformat": 4,
 "nbformat_minor": 5
}
